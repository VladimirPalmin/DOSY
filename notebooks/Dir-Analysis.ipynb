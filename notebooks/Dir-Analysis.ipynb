{
 "cells": [
  {
   "cell_type": "code",
   "execution_count": 34,
   "metadata": {
    "pycharm": {
     "name": "#%%\n"
    }
   },
   "outputs": [
    {
     "name": "stdout",
     "output_type": "stream",
     "text": [
      "Collecting matplotlib==3.5.2\n",
      "  Downloading matplotlib-3.5.2-cp38-cp38-win_amd64.whl (7.2 MB)\n",
      "Collecting numpy==1.23.1"
     ]
    },
    {
     "name": "stderr",
     "output_type": "stream",
     "text": [
      "ERROR: Could not install packages due to an EnvironmentError: [WinError 5] Отказано в доступе: 'D:\\\\kolesnikova\\\\anaconda3\\\\Lib\\\\site-packages\\\\~umpy\\\\core\\\\_multiarray_tests.cp38-win_amd64.pyd'\n",
      "Consider using the `--user` option or check the permissions.\n",
      "\n"
     ]
    },
    {
     "name": "stdout",
     "output_type": "stream",
     "text": [
      "\n",
      "  Downloading numpy-1.23.1-cp38-cp38-win_amd64.whl (14.7 MB)\n",
      "Collecting pandas==1.4.3\n",
      "  Downloading pandas-1.4.3-cp38-cp38-win_amd64.whl (10.6 MB)\n",
      "Collecting pip==22.2.1\n",
      "  Downloading pip-22.2.1-py3-none-any.whl (2.0 MB)\n",
      "Collecting scipy==1.9.0\n",
      "  Downloading scipy-1.9.0-cp38-cp38-win_amd64.whl (38.6 MB)\n",
      "Collecting seaborn==0.11.2\n",
      "  Downloading seaborn-0.11.2-py3-none-any.whl (292 kB)\n",
      "Requirement already satisfied: kiwisolver>=1.0.1 in d:\\kolesnikova\\anaconda3\\lib\\site-packages (from matplotlib==3.5.2->-r ../requirements.txt (line 1)) (1.2.0)\n",
      "Requirement already satisfied: pyparsing>=2.2.1 in d:\\kolesnikova\\anaconda3\\lib\\site-packages (from matplotlib==3.5.2->-r ../requirements.txt (line 1)) (2.4.7)\n",
      "Requirement already satisfied: packaging>=20.0 in d:\\kolesnikova\\anaconda3\\lib\\site-packages (from matplotlib==3.5.2->-r ../requirements.txt (line 1)) (20.4)\n",
      "Requirement already satisfied: cycler>=0.10 in d:\\kolesnikova\\anaconda3\\lib\\site-packages (from matplotlib==3.5.2->-r ../requirements.txt (line 1)) (0.10.0)\n",
      "Collecting fonttools>=4.22.0\n",
      "  Downloading fonttools-4.34.4-py3-none-any.whl (944 kB)\n",
      "Requirement already satisfied: pillow>=6.2.0 in d:\\kolesnikova\\anaconda3\\lib\\site-packages (from matplotlib==3.5.2->-r ../requirements.txt (line 1)) (7.2.0)\n",
      "Requirement already satisfied: python-dateutil>=2.7 in d:\\kolesnikova\\anaconda3\\lib\\site-packages (from matplotlib==3.5.2->-r ../requirements.txt (line 1)) (2.8.1)\n",
      "Requirement already satisfied: pytz>=2020.1 in d:\\kolesnikova\\anaconda3\\lib\\site-packages (from pandas==1.4.3->-r ../requirements.txt (line 3)) (2020.1)\n",
      "Requirement already satisfied: six in d:\\kolesnikova\\anaconda3\\lib\\site-packages (from packaging>=20.0->matplotlib==3.5.2->-r ../requirements.txt (line 1)) (1.15.0)\n",
      "Installing collected packages: numpy, fonttools, matplotlib, pandas, pip, scipy, seaborn\n",
      "  Attempting uninstall: numpy\n",
      "    Found existing installation: numpy 1.18.5\n",
      "    Uninstalling numpy-1.18.5:\n",
      "      Successfully uninstalled numpy-1.18.5\n"
     ]
    }
   ],
   "source": [
    "# path to requirements.txt\n",
    "#!pip install -r /data/workspace_files/requirements.txt\n",
    "!pip install -r ../requirements.txt"
   ]
  },
  {
   "cell_type": "code",
   "execution_count": 43,
   "metadata": {
    "pycharm": {
     "name": "#%%\n"
    }
   },
   "outputs": [
    {
     "data": {
      "text/plain": [
       "'D:\\\\Python\\\\Library\\\\DOSY\\\\DOSY'"
      ]
     },
     "execution_count": 43,
     "metadata": {},
     "output_type": "execute_result"
    }
   ],
   "source": [
    "import matplotlib.pyplot as plt\n",
    "import pathlib\n",
    "import sys\n",
    "\n",
    "home = str(pathlib.Path().resolve().parent) \n",
    "sys.path.insert(0, path)\n",
    "\n",
    "from src.data_loading import load_data\n",
    "from src.errors import plot_parameters_space, plot_errors\n",
    "from src.main import number_analysis, error_analysis\n",
    "home"
   ]
  },
  {
   "cell_type": "code",
   "execution_count": 74,
   "metadata": {},
   "outputs": [],
   "source": [
    "import pandas as pd\n",
    "import os as os"
   ]
  },
  {
   "cell_type": "code",
   "execution_count": 101,
   "metadata": {},
   "outputs": [
    {
     "name": "stdout",
     "output_type": "stream",
     "text": [
      "info-R2-R4.info\n",
      "R4-5-0.txt\n"
     ]
    },
    {
     "data": {
      "image/png": "[encoded data removed]",
      "text/plain": [
       "<Figure size 432x288 with 2 Axes>"
      ]
     },
     "metadata": {
      "needs_background": "light"
     },
     "output_type": "display_data"
    },
    {
     "name": "stdout",
     "output_type": "stream",
     "text": [
      "BFGS\n",
      "---------------------------\n",
      "(w, D)\n",
      "-----------------\n",
      "(1.0040232843600012, 0.6991998728203591)\n",
      "\n",
      "(1.0091268273985683, 0.7045338116885886)\n",
      "(-0.007304610764919642, 7.148595245489752)\n",
      "\n",
      "(1.010363384513231, 0.7052851414665754)\n",
      "(-0.00704757967309524, 4.444663395441385)\n",
      "(-0.002268981454389527, 35.6120309349684)\n",
      "\n",
      "(1.0105031568175402, 0.7053866141502366)\n",
      "(-0.09013805701145428, 6.7365333461884)\n",
      "(0.11681939460568792, 7.733689654462273)\n",
      "(-0.03577246702312207, 10.449248950757333)\n",
      "\n",
      "---------------------------\n",
      "AIC: 2\n",
      "BIC: 2\n",
      "conservative: 2\n",
      "R4-R2-1-5.txt\n"
     ]
    },
    {
     "data": {
      "image/png": "[encoded data removed]",
      "text/plain": [
       "<Figure size 432x288 with 2 Axes>"
      ]
     },
     "metadata": {
      "needs_background": "light"
     },
     "output_type": "display_data"
    },
    {
     "name": "stdout",
     "output_type": "stream",
     "text": [
      "BFGS\n",
      "---------------------------\n",
      "(w, D)\n",
      "-----------------\n",
      "(1.0040839216139046, 1.0588437093781122)\n",
      "\n",
      "(0.03516413559980225, 0.45842017671897006)\n",
      "(0.9697441499218173, 1.0914209980753742)\n",
      "\n",
      "(0.5839305311075438, 0.9128345175725362)\n",
      "(0.4252905606320111, 1.3260710316534468)\n",
      "(-0.006420006531104497, 17.803857033124316)\n",
      "\n",
      "(0.03979064191915554, 0.5138414786569516)\n",
      "(0.9562478516345133, 1.0832458094288555)\n",
      "(0.054417008050643645, 6.150934340108434)\n",
      "(-0.04746415514698738, 8.233506706763821)\n",
      "\n",
      "---------------------------\n",
      "AIC: 3\n",
      "BIC: 3\n",
      "conservative: 3\n",
      "R4-R2-2-5.txt\n"
     ]
    },
    {
     "data": {
      "image/png": "[encoded data removed]",
      "text/plain": [
       "<Figure size 432x288 with 2 Axes>"
      ]
     },
     "metadata": {
      "needs_background": "light"
     },
     "output_type": "display_data"
    },
    {
     "name": "stdout",
     "output_type": "stream",
     "text": [
      "BFGS\n",
      "---------------------------\n",
      "(w, D)\n",
      "-----------------\n",
      "(0.9977038278158524, 1.0480706011021959)\n",
      "\n",
      "(0.9514909366521294, 0.980451727509945)\n",
      "(0.060165087242099784, 7.491293767120499)\n",
      "\n",
      "(0.0836723232269119, 0.5350274254921689)\n",
      "(0.8844532890184161, 1.0611105566902057)\n",
      "(0.04454638102728892, 10.347426518587813)\n",
      "\n",
      "(0.7219932028709504, 0.8760435042755559)\n",
      "(0.31732566522913097, 1.741491376934029)\n",
      "(-0.28008185675785213, 4.904442960063842)\n",
      "(0.25317512199518855, 6.364732441342177)\n",
      "\n",
      "---------------------------\n",
      "AIC: 4\n",
      "BIC: 3\n",
      "conservative: 3\n",
      "R4-R2-5-1.txt\n"
     ]
    },
    {
     "data": {
      "image/png": "[encoded data removed]",
      "text/plain": [
       "<Figure size 432x288 with 2 Axes>"
      ]
     },
     "metadata": {
      "needs_background": "light"
     },
     "output_type": "display_data"
    },
    {
     "name": "stdout",
     "output_type": "stream",
     "text": [
      "BFGS\n",
      "---------------------------\n",
      "(w, D)\n",
      "-----------------\n",
      "(1.0050358961450692, 0.7566514198073073)\n",
      "\n",
      "(0.2617689667813589, 0.5955117822103642)\n",
      "(0.7441477970843113, 0.8247596710711783)\n",
      "\n",
      "(0.8100256906865885, 0.7026844594632334)\n",
      "(0.19817967446442675, 1.0548320823428377)\n",
      "(-0.0027787327142731306, 7.909853809288411)\n",
      "\n",
      "(0.46274745241981774, 0.6491388541154556)\n",
      "(0.5416602156743225, 0.8632981768454194)\n",
      "(0.006948948238512442, 4.74071179372976)\n",
      "(-0.006091280773655155, 8.48710057479184)\n",
      "\n",
      "---------------------------\n",
      "AIC: 3\n",
      "BIC: 2\n",
      "conservative: 2\n",
      "R4-R2-5-2.txt\n"
     ]
    },
    {
     "data": {
      "image/png": "[encoded data removed]",
      "text/plain": [
       "<Figure size 432x288 with 2 Axes>"
      ]
     },
     "metadata": {
      "needs_background": "light"
     },
     "output_type": "display_data"
    },
    {
     "name": "stdout",
     "output_type": "stream",
     "text": [
      "BFGS\n",
      "---------------------------\n",
      "(w, D)\n",
      "-----------------\n",
      "(1.0038928935647604, 0.8195769530056987)\n",
      "\n",
      "(0.3045988179220973, 0.6269837898896532)\n",
      "(0.7006548499836084, 0.9237534715870188)\n",
      "\n",
      "(0.5714642504337872, 0.6989924212372816)\n",
      "(0.4353731382440249, 1.022577057309857)\n",
      "(-0.0020238155787460663, 9.822946501634192)\n",
      "\n",
      "(0.16058789456886252, 0.5544811105423668)\n",
      "(0.8430037419282473, 0.8823462840944736)\n",
      "(0.018761860233080217, 21.892031544402403)\n",
      "(-0.023862622297734188, 39.76167358480346)\n",
      "\n",
      "---------------------------\n",
      "AIC: 4\n",
      "BIC: 4\n",
      "conservative: 4\n",
      "R4-R2-5-3.txt\n"
     ]
    },
    {
     "data": {
      "image/png": "[encoded data removed]",
      "text/plain": [
       "<Figure size 432x288 with 2 Axes>"
      ]
     },
     "metadata": {
      "needs_background": "light"
     },
     "output_type": "display_data"
    },
    {
     "name": "stdout",
     "output_type": "stream",
     "text": [
      "BFGS\n",
      "---------------------------\n",
      "(w, D)\n",
      "-----------------\n",
      "(0.995653792871627, 0.8321076412020403)\n",
      "\n",
      "(0.7651045176608177, 0.7309799766470708)\n",
      "(0.23331143467755716, 1.3103004513559835)\n",
      "\n",
      "(0.19666631222431794, 0.5259261810240202)\n",
      "(0.7979681289316392, 0.927975374105122)\n",
      "(0.0064543433876908095, 24.34798790730877)\n",
      "\n",
      "(0.19717710286780057, 0.5263251680119079)\n",
      "(0.7974582452023944, 0.9281474154300023)\n",
      "(0.0033963781806943347, 22.33556706525138)\n",
      "(0.0030772836527456072, 27.096432819092698)\n",
      "\n",
      "---------------------------\n",
      "AIC: 3\n",
      "BIC: 3\n",
      "conservative: 3\n",
      "R4-R2-5-4.txt\n"
     ]
    },
    {
     "data": {
      "image/png": "[encoded data removed]",
      "text/plain": [
       "<Figure size 432x288 with 2 Axes>"
      ]
     },
     "metadata": {
      "needs_background": "light"
     },
     "output_type": "display_data"
    },
    {
     "name": "stdout",
     "output_type": "stream",
     "text": [
      "BFGS\n",
      "---------------------------\n",
      "(w, D)\n",
      "-----------------\n",
      "(0.9917305154281821, 0.9280244994594146)\n",
      "\n",
      "(0.9855898408334504, 0.9175450572055799)\n",
      "(0.023655974262574996, 58.12329655402092)\n",
      "\n",
      "(0.04233824433322445, 0.4285863887805911)\n",
      "(0.9452362473865192, 0.9512101778165977)\n",
      "(0.02403078388954307, 75.31811283376823)\n",
      "\n",
      "(0.9751293377546494, 0.9070294946723256)\n",
      "(0.650562424468872, 11.571696077734494)\n",
      "(-1.545809821279432, 14.236778936391556)\n",
      "(0.9258689279781892, 16.565449896525166)\n",
      "\n",
      "---------------------------\n",
      "AIC: 3\n",
      "BIC: 3\n",
      "conservative: 3\n",
      "R4-R2-5-5.txt\n"
     ]
    },
    {
     "data": {
      "image/png": "[encoded data removed]",
      "text/plain": [
       "<Figure size 432x288 with 2 Axes>"
      ]
     },
     "metadata": {
      "needs_background": "light"
     },
     "output_type": "display_data"
    },
    {
     "name": "stdout",
     "output_type": "stream",
     "text": [
      "BFGS\n",
      "---------------------------\n",
      "(w, D)\n",
      "-----------------\n",
      "(0.9912953559826597, 0.9412661314371386)\n",
      "\n",
      "(0.9551334620172633, 0.8970083146522158)\n",
      "(0.042189221623067326, 4.936141076338615)\n",
      "\n",
      "(0.9533400793060178, 0.8957876863944011)\n",
      "(0.04332317312858109, 4.610569800871497)\n",
      "(59.3443048159041, 1752.6826253861618)\n",
      "\n",
      "(0.9559078303384154, 0.8969673474122447)\n",
      "(1.946609598952002, 10.178030461415155)\n",
      "(-2.8476628401007664, 11.079624710985582)\n",
      "(0.9445216759957479, 12.83125383435897)\n",
      "\n",
      "---------------------------\n",
      "AIC: 3\n",
      "BIC: 3\n",
      "conservative: 3\n"
     ]
    }
   ],
   "source": [
    "datadir = 'R2-R4'\n",
    "\n",
    "results_ = {}\n",
    "dirname = str(pathlib.Path(home, '../data/'+datadir+'/'))\n",
    "for filename in os.listdir(dirname):\n",
    "    print(filename)\n",
    "    if filename.endswith('.txt'):\n",
    "        with open(os.path.join(dirname, filename), 'r') as f: # open in readonly mode\n",
    "            expname = filename.split('.')[0]\n",
    "            x, y = load_data(f.name, scale=1e6)\n",
    "            params, m_aic, m_bic, cons_number = number_analysis(x, y, n_min=1, n_max=4, method='BFGS', reg=0.0)\n",
    "            result = {}\n",
    "            result['AIC'] = m_aic\n",
    "            result['BIC'] = m_bic\n",
    "            result['con'] = cons_number\n",
    "            result['w11'] = params[0][0]\n",
    "            result['D11'] = params[0][1]\n",
    "            result['w12'] = params[1][0]\n",
    "            result['D12'] = params[1][1]\n",
    "            result['w22'] = params[1][2]\n",
    "            result['D22'] = params[1][3]\n",
    "            result['w13'] = params[2][0]\n",
    "            result['D13'] = params[2][1]\n",
    "            result['w23'] = params[2][2]\n",
    "            result['D23'] = params[2][3]\n",
    "            result['w33'] = params[2][4]\n",
    "            result['D33'] = params[2][5]\n",
    "            result['w14'] = params[3][0]\n",
    "            result['D14'] = params[3][1]\n",
    "            result['w24'] = params[3][2]\n",
    "            result['D24'] = params[3][3]\n",
    "            result['w34'] = params[3][4]\n",
    "            result['D34'] = params[3][5]\n",
    "            result['w44'] = params[3][6]\n",
    "            result['D44'] = params[3][7]\n",
    "            results_[expname] = result\n",
    "results = pd.DataFrame(results_).T\n",
    "results.to_csv(datadir+'.csv')\n",
    "results.to_excel(datadir+'.xlsx')\n",
    "\n"
   ]
  }
 ],
 "metadata": {
  "datalore": {
   "base_environment": "default",
   "computation_mode": "JUPYTER",
   "package_manager": "pip",
   "packages": [],
   "version": 1
  },
  "kernelspec": {
   "display_name": "Python 3",
   "language": "python",
   "name": "python3"
  },
  "language_info": {
   "codemirror_mode": {
    "name": "ipython",
    "version": 3
   },
   "file_extension": ".py",
   "mimetype": "text/x-python",
   "name": "python",
   "nbconvert_exporter": "python",
   "pygments_lexer": "ipython3",
   "version": "3.8.3"
  }
 },
 "nbformat": 4,
 "nbformat_minor": 4
}
