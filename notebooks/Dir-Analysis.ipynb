{
 "cells": [
  {
   "cell_type": "code",
   "execution_count": 34,
   "metadata": {
    "pycharm": {
     "name": "#%%\n"
    }
   },
   "outputs": [
    {
     "name": "stdout",
     "output_type": "stream",
     "text": [
      "Collecting matplotlib==3.5.2\n",
      "  Downloading matplotlib-3.5.2-cp38-cp38-win_amd64.whl (7.2 MB)\n",
      "Collecting numpy==1.23.1"
     ]
    },
    {
     "name": "stderr",
     "output_type": "stream",
     "text": [
      "ERROR: Could not install packages due to an EnvironmentError: [WinError 5] Отказано в доступе: 'D:\\\\kolesnikova\\\\anaconda3\\\\Lib\\\\site-packages\\\\~umpy\\\\core\\\\_multiarray_tests.cp38-win_amd64.pyd'\n",
      "Consider using the `--user` option or check the permissions.\n",
      "\n"
     ]
    },
    {
     "name": "stdout",
     "output_type": "stream",
     "text": [
      "\n",
      "  Downloading numpy-1.23.1-cp38-cp38-win_amd64.whl (14.7 MB)\n",
      "Collecting pandas==1.4.3\n",
      "  Downloading pandas-1.4.3-cp38-cp38-win_amd64.whl (10.6 MB)\n",
      "Collecting pip==22.2.1\n",
      "  Downloading pip-22.2.1-py3-none-any.whl (2.0 MB)\n",
      "Collecting scipy==1.9.0\n",
      "  Downloading scipy-1.9.0-cp38-cp38-win_amd64.whl (38.6 MB)\n",
      "Collecting seaborn==0.11.2\n",
      "  Downloading seaborn-0.11.2-py3-none-any.whl (292 kB)\n",
      "Requirement already satisfied: kiwisolver>=1.0.1 in d:\\kolesnikova\\anaconda3\\lib\\site-packages (from matplotlib==3.5.2->-r ../requirements.txt (line 1)) (1.2.0)\n",
      "Requirement already satisfied: pyparsing>=2.2.1 in d:\\kolesnikova\\anaconda3\\lib\\site-packages (from matplotlib==3.5.2->-r ../requirements.txt (line 1)) (2.4.7)\n",
      "Requirement already satisfied: packaging>=20.0 in d:\\kolesnikova\\anaconda3\\lib\\site-packages (from matplotlib==3.5.2->-r ../requirements.txt (line 1)) (20.4)\n",
      "Requirement already satisfied: cycler>=0.10 in d:\\kolesnikova\\anaconda3\\lib\\site-packages (from matplotlib==3.5.2->-r ../requirements.txt (line 1)) (0.10.0)\n",
      "Collecting fonttools>=4.22.0\n",
      "  Downloading fonttools-4.34.4-py3-none-any.whl (944 kB)\n",
      "Requirement already satisfied: pillow>=6.2.0 in d:\\kolesnikova\\anaconda3\\lib\\site-packages (from matplotlib==3.5.2->-r ../requirements.txt (line 1)) (7.2.0)\n",
      "Requirement already satisfied: python-dateutil>=2.7 in d:\\kolesnikova\\anaconda3\\lib\\site-packages (from matplotlib==3.5.2->-r ../requirements.txt (line 1)) (2.8.1)\n",
      "Requirement already satisfied: pytz>=2020.1 in d:\\kolesnikova\\anaconda3\\lib\\site-packages (from pandas==1.4.3->-r ../requirements.txt (line 3)) (2020.1)\n",
      "Requirement already satisfied: six in d:\\kolesnikova\\anaconda3\\lib\\site-packages (from packaging>=20.0->matplotlib==3.5.2->-r ../requirements.txt (line 1)) (1.15.0)\n",
      "Installing collected packages: numpy, fonttools, matplotlib, pandas, pip, scipy, seaborn\n",
      "  Attempting uninstall: numpy\n",
      "    Found existing installation: numpy 1.18.5\n",
      "    Uninstalling numpy-1.18.5:\n",
      "      Successfully uninstalled numpy-1.18.5\n"
     ]
    }
   ],
   "source": [
    "# path to requirements.txt\n",
    "#!pip install -r /data/workspace_files/requirements.txt\n",
    "!pip install -r ../requirements.txt"
   ]
  },
  {
   "cell_type": "code",
   "execution_count": 5,
   "metadata": {
    "pycharm": {
     "name": "#%%\n"
    }
   },
   "outputs": [
    {
     "data": {
      "text/plain": "'C:\\\\Users\\\\mipt-\\\\DOSY'"
     },
     "execution_count": 5,
     "metadata": {},
     "output_type": "execute_result"
    }
   ],
   "source": [
    "import pathlib\n",
    "import sys\n",
    "\n",
    "home = str(pathlib.Path().resolve().parent) \n",
    "sys.path.insert(0, home)\n",
    "\n",
    "from src.data_loading import load_data\n",
    "from src.main import data_analysis\n",
    "home"
   ]
  },
  {
   "cell_type": "code",
   "execution_count": 6,
   "metadata": {
    "pycharm": {
     "name": "#%%\n"
    }
   },
   "outputs": [],
   "source": [
    "import pandas as pd\n",
    "import os as os\n"
   ]
  },
  {
   "cell_type": "code",
   "execution_count": 13,
   "metadata": {
    "pycharm": {
     "name": "#%%\n"
    }
   },
   "outputs": [
    {
     "ename": "NameError",
     "evalue": "name 'expname' is not defined",
     "output_type": "error",
     "traceback": [
      "\u001B[1;31m---------------------------------------------------------------------------\u001B[0m",
      "\u001B[1;31mNameError\u001B[0m                                 Traceback (most recent call last)",
      "File \u001B[1;32m<timed exec>:28\u001B[0m, in \u001B[0;36m<module>\u001B[1;34m\u001B[0m\n",
      "\u001B[1;31mNameError\u001B[0m: name 'expname' is not defined"
     ]
    }
   ],
   "source": [
    "%%time\n",
    "datadirs = {'Ri 128DOSY', 'R2-R4', 'R2-R5', 'R1-R2'}\n",
    "n_min = 1\n",
    "n_max = 4\n",
    "method = 'BFGS'\n",
    "reg = 0.01\n",
    "all_res = {}\n",
    "for datadir in datadirs:\n",
    "    results_ = {}\n",
    "    dirname = str(pathlib.Path('/data/workspace_files', 'data/'+datadir+'/'))\n",
    "    for filename in os.listdir(dirname):\n",
    "        if filename.endswith('.txt'):\n",
    "            with open(os.path.join(dirname, filename), 'r') as f: # open in readonly mode\n",
    "                expname = filename.split('.')[0]\n",
    "                x, y = load_data(f.name, scale=1e6)\n",
    "                #params, m_aic, m_bic, cons_number = number_analysis(x, y, n_min=n_min, n_max=n_max, method=method, reg=reg)\n",
    "                indx, theta_opt, sigmas, params = data_analysis(x, y, n_min=n_min, n_max=n_max, method=method, reg=reg)\n",
    "                result = {}\n",
    "                result['number'] = indx\n",
    "                for i in range(len(theta_opt)):\n",
    "                    if i%2 == 0:\n",
    "                        w = f'w{i//2 + 1}'#+str(j//2 + 1)+str(i)\n",
    "                        result[w] = theta_opt[i]\n",
    "                        ws = f'w_sigma{i//2 + 1}'\n",
    "                        result[ws] = sigmas[i]\n",
    "                    else:\n",
    "                        D = f'D{i//2 + 1}'#+str(j//2 + 1)+str(i)\n",
    "                        result[D] = theta_opt[i]\n",
    "                        Ds = f'D_sigma{i//2 + 1}'\n",
    "                        result[Ds] = sigmas[i]\n",
    "\n",
    "        results_[expname] = result\n",
    "    results = pd.DataFrame(results_).T\n",
    "    all_res[datadir] = results"
   ]
  },
  {
   "cell_type": "code",
   "execution_count": 14,
   "outputs": [
    {
     "ename": "NameError",
     "evalue": "name 'expname' is not defined",
     "output_type": "error",
     "traceback": [
      "\u001B[1;31m---------------------------------------------------------------------------\u001B[0m",
      "\u001B[1;31mNameError\u001B[0m                                 Traceback (most recent call last)",
      "Input \u001B[1;32mIn [14]\u001B[0m, in \u001B[0;36m<cell line: 1>\u001B[1;34m()\u001B[0m\n\u001B[1;32m----> 1\u001B[0m \u001B[43mexpname\u001B[49m\n",
      "\u001B[1;31mNameError\u001B[0m: name 'expname' is not defined"
     ]
    }
   ],
   "source": [
    "for key, item in all_res.items():\n",
    "    item.to_csv(f'{key}.csv')"
   ],
   "metadata": {
    "collapsed": false,
    "pycharm": {
     "name": "#%%\n"
    }
   }
  },
  {
   "cell_type": "code",
   "execution_count": 11,
   "outputs": [
    {
     "data": {
      "text/plain": "{}"
     },
     "execution_count": 11,
     "metadata": {},
     "output_type": "execute_result"
    }
   ],
   "source": [
    "result"
   ],
   "metadata": {
    "collapsed": false,
    "pycharm": {
     "name": "#%%\n"
    }
   }
  },
  {
   "cell_type": "code",
   "execution_count": null,
   "outputs": [],
   "source": [],
   "metadata": {
    "collapsed": false,
    "pycharm": {
     "name": "#%%\n"
    }
   }
  }
 ],
 "metadata": {
  "datalore": {
   "base_environment": "default",
   "computation_mode": "JUPYTER",
   "package_manager": "pip",
   "packages": [],
   "version": 1
  },
  "kernelspec": {
   "display_name": "Python 3",
   "language": "python",
   "name": "python3"
  },
  "language_info": {
   "codemirror_mode": {
    "name": "ipython",
    "version": 3
   },
   "file_extension": ".py",
   "mimetype": "text/x-python",
   "name": "python",
   "nbconvert_exporter": "python",
   "pygments_lexer": "ipython3",
   "version": "3.8.3"
  }
 },
 "nbformat": 4,
 "nbformat_minor": 4
}