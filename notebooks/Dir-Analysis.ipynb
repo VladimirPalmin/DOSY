{
 "cells":[
  {
   "cell_type":"code",
   "source":[
    "# path to requirements.txt\n",
    "!pip install -r \/data\/workspace_files\/requirements.txt"
   ],
   "execution_count":1,
   "outputs":[
    {
     "name":"stdout",
     "text":[
      "Requirement already satisfied: pip==22.2 in \/opt\/python\/envs\/default\/lib\/python3.8\/site-packages (from -r \/data\/workspace_files\/requirements.txt (line 1)) (22.2)\r\n",
      "Requirement already satisfied: matplotlib==3.5.2 in \/opt\/python\/envs\/default\/lib\/python3.8\/site-packages (from -r \/data\/workspace_files\/requirements.txt (line 2)) (3.5.2)\r\n",
      "Requirement already satisfied: numpy==1.23.1 in \/opt\/python\/envs\/default\/lib\/python3.8\/site-packages (from -r \/data\/workspace_files\/requirements.txt (line 3)) (1.23.1)\r\n",
      "Requirement already satisfied: pandas==1.4.3 in \/opt\/python\/envs\/default\/lib\/python3.8\/site-packages (from -r \/data\/workspace_files\/requirements.txt (line 4)) (1.4.3)\r\n",
      "Requirement already satisfied: scipy==1.8.1 in \/opt\/python\/envs\/default\/lib\/python3.8\/site-packages (from -r \/data\/workspace_files\/requirements.txt (line 5)) (1.8.1)\r\n",
      "Requirement already satisfied: seaborn==0.11.2 in \/opt\/python\/envs\/default\/lib\/python3.8\/site-packages (from -r \/data\/workspace_files\/requirements.txt (line 6)) (0.11.2)\r\n",
      "Requirement already satisfied: pillow>=6.2.0 in \/opt\/python\/envs\/default\/lib\/python3.8\/site-packages (from matplotlib==3.5.2->-r \/data\/workspace_files\/requirements.txt (line 2)) (9.2.0)\r\n",
      "Requirement already satisfied: kiwisolver>=1.0.1 in \/opt\/python\/envs\/default\/lib\/python3.8\/site-packages (from matplotlib==3.5.2->-r \/data\/workspace_files\/requirements.txt (line 2)) (1.4.4)\r\n",
      "Requirement already satisfied: fonttools>=4.22.0 in \/opt\/python\/envs\/default\/lib\/python3.8\/site-packages (from matplotlib==3.5.2->-r \/data\/workspace_files\/requirements.txt (line 2)) (4.37.4)\r\n",
      "Requirement already satisfied: cycler>=0.10 in \/opt\/python\/envs\/default\/lib\/python3.8\/site-packages (from matplotlib==3.5.2->-r \/data\/workspace_files\/requirements.txt (line 2)) (0.11.0)\r\n",
      "Requirement already satisfied: pyparsing>=2.2.1 in \/opt\/python\/envs\/default\/lib\/python3.8\/site-packages (from matplotlib==3.5.2->-r \/data\/workspace_files\/requirements.txt (line 2)) (3.0.9)\r\n",
      "Requirement already satisfied: python-dateutil>=2.7 in \/opt\/python\/envs\/default\/lib\/python3.8\/site-packages (from matplotlib==3.5.2->-r \/data\/workspace_files\/requirements.txt (line 2)) (2.8.2)\r\n",
      "Requirement already satisfied: packaging>=20.0 in \/opt\/python\/envs\/default\/lib\/python3.8\/site-packages (from matplotlib==3.5.2->-r \/data\/workspace_files\/requirements.txt (line 2)) (21.3)\r\n",
      "Requirement already satisfied: pytz>=2020.1 in \/opt\/python\/envs\/default\/lib\/python3.8\/site-packages (from pandas==1.4.3->-r \/data\/workspace_files\/requirements.txt (line 4)) (2022.4)\r\n",
      "Requirement already satisfied: six>=1.5 in \/opt\/python\/envs\/default\/lib\/python3.8\/site-packages (from python-dateutil>=2.7->matplotlib==3.5.2->-r \/data\/workspace_files\/requirements.txt (line 2)) (1.16.0)\r\n",
      "\r\n",
      "\u001b[1m[\u001b[0m\u001b[34;49mnotice\u001b[0m\u001b[1;39;49m]\u001b[0m\u001b[39;49m A new release of pip available: \u001b[0m\u001b[31;49m22.2\u001b[0m\u001b[39;49m -> \u001b[0m\u001b[32;49m22.2.2\u001b[0m\r\n",
      "\u001b[1m[\u001b[0m\u001b[34;49mnotice\u001b[0m\u001b[1;39;49m]\u001b[0m\u001b[39;49m To update, run: \u001b[0m\u001b[32;49mpip install --upgrade pip\u001b[0m\r\n"
     ],
     "output_type":"stream"
    }
   ],
   "metadata":{
    "datalore":{
     "node_id":"vhOq3pGL4UKlch3idfbXAc",
     "type":"CODE",
     "hide_input_from_viewers":false,
     "hide_output_from_viewers":false
    }
   }
  },
  {
   "cell_type":"code",
   "source":[
    "import pathlib\n",
    "import sys\n",
    "\n",
    "home = str(pathlib.Path().resolve().parent) \n",
    "sys.path.insert(0, home)\n",
    "\n",
    "from src.data_loading import load_data\n",
    "from src.errors import plot_parameters_space, plot_errors\n",
    "from src.main import number_analysis, error_analysis, data_analysis\n",
    "home"
   ],
   "execution_count":2,
   "outputs":[
    {
     "data":{
      "text\/plain":[
       "'\/data'"
      ]
     },
     "metadata":{
      
     },
     "output_type":"display_data"
    }
   ],
   "metadata":{
    "datalore":{
     "node_id":"y8H5DfTWsLHfHYFFOU4PHW",
     "type":"CODE",
     "hide_input_from_viewers":false,
     "hide_output_from_viewers":false
    }
   }
  },
  {
   "cell_type":"code",
   "source":[
    "import pandas as pd\n",
    "import numpy as np\n",
    "import os as os\n",
    "import matplotlib.pyplot as plt"
   ],
   "execution_count":3,
   "outputs":[
    
   ],
   "metadata":{
    "datalore":{
     "node_id":"l4IiTGrSKMIAG5dnK22JdI",
     "type":"CODE",
     "hide_input_from_viewers":false,
     "hide_output_from_viewers":false
    }
   }
  },
  {
   "cell_type":"code",
   "source":[
    "datadirs = {'Ri 128DOSY', 'R2-R4', 'R2-R5', 'R1-R2'}\n",
    "#datadirs = {'R2_5times'}\n",
    "n_min = 1\n",
    "n_max = 4\n",
    "method = 'BFGS'\n",
    "reg = 0.005\n",
    "conf_level=2\n",
    "all_res = {}\n",
    "for datadir in datadirs:\n",
    "    results_ = {}\n",
    "    dirname = str(pathlib.Path('\/data\/workspace_files', 'data\/'+datadir+'\/'))\n",
    "    for filename in os.listdir(dirname):\n",
    "        if filename.endswith('.txt'):\n",
    "            with open(os.path.join(dirname, filename), 'r') as f: # open in readonly mode\n",
    "                expname = filename.split('.')[0]\n",
    "                x, y = load_data(f.name, scale=1e6)\n",
    "                #params, m_aic, m_bic, cons_number = number_analysis(x, y, n_min=n_min, n_max=n_max, method=method, reg=reg)\n",
    "                indx, theta_opt, sigmas, params = data_analysis(x, y, n_min=n_min, n_max=n_max,\n",
    "                                                                method=method, reg=reg, conf_level=conf_level)\n",
    "                result = {}\n",
    "                result['number'] = indx\n",
    "                for i in range(len(theta_opt)):\n",
    "                    if i%2 == 0:\n",
    "                        w = f'w{i\/\/2 + 1}'#+str(j\/\/2 + 1)+str(i)\n",
    "                        result[w] = theta_opt[i]\n",
    "                        ws = f'w_sigma{i\/\/2 + 1}'\n",
    "                        result[ws] = sigmas[i]\n",
    "                    else:\n",
    "                        D = f'D{i\/\/2 + 1}'#+str(j\/\/2 + 1)+str(i)\n",
    "                        result[D] = theta_opt[i]\n",
    "                        Ds = f'D_sigma{i\/\/2 + 1}'\n",
    "                        result[Ds] = sigmas[i]\n",
    "                    \n",
    "        results_[expname] = result\n",
    "    results = pd.DataFrame(results_).T\n",
    "    results.to_csv(f'{datadir}.csv')\n",
    "    all_res[datadir] = results"
   ],
   "execution_count":7,
   "outputs":[
    
   ],
   "metadata":{
    "datalore":{
     "node_id":"hCRpudtRTIVTG3hVTs1p1u",
     "type":"CODE",
     "hide_input_from_viewers":false,
     "hide_output_from_viewers":false
    }
   }
  },
  {
   "cell_type":"code",
   "source":[
    "for key, item in all_res.items():\n",
    "    item.to_csv(f'{key}_curve_fit.csv')"
   ],
   "execution_count":8,
   "outputs":[
    
   ],
   "metadata":{
    "datalore":{
     "node_id":"9dxykcDkvhiMqzVhgbwvSF",
     "type":"CODE",
     "hide_input_from_viewers":false,
     "hide_output_from_viewers":false
    }
   }
  },
  {
   "cell_type":"code",
   "source":[
    "all_res['R2_5times']#, all_res['R2_5times'].std()"
   ],
   "execution_count":20,
   "outputs":[
    {
     "data":{
      "text\/html":[
       "<div>\n",
       "<style scoped>\n",
       "    .dataframe tbody tr th:only-of-type {\n",
       "        vertical-align: middle;\n",
       "    }\n",
       "\n",
       "    .dataframe tbody tr th {\n",
       "        vertical-align: top;\n",
       "    }\n",
       "\n",
       "    .dataframe thead th {\n",
       "        text-align: right;\n",
       "    }\n",
       "<\/style>\n",
       "<table border=\"1\" class=\"dataframe\">\n",
       "  <thead>\n",
       "    <tr style=\"text-align: right;\">\n",
       "      <th><\/th>\n",
       "      <th>number<\/th>\n",
       "      <th>w1<\/th>\n",
       "      <th>w_sigma1<\/th>\n",
       "      <th>D1<\/th>\n",
       "      <th>D_sigma1<\/th>\n",
       "      <th>w2<\/th>\n",
       "      <th>w_sigma2<\/th>\n",
       "      <th>D2<\/th>\n",
       "      <th>D_sigma2<\/th>\n",
       "    <\/tr>\n",
       "  <\/thead>\n",
       "  <tbody>\n",
       "    <tr>\n",
       "      <th>DOSY-R2-1-4-DMSO-128points-1<\/th>\n",
       "      <td>1.0<\/td>\n",
       "      <td>0.992793<\/td>\n",
       "      <td>0.000627<\/td>\n",
       "      <td>1.111630<\/td>\n",
       "      <td>0.001034<\/td>\n",
       "      <td>NaN<\/td>\n",
       "      <td>NaN<\/td>\n",
       "      <td>NaN<\/td>\n",
       "      <td>NaN<\/td>\n",
       "    <\/tr>\n",
       "    <tr>\n",
       "      <th>DOSY-R2-1-4-DMSO-128points-3<\/th>\n",
       "      <td>2.0<\/td>\n",
       "      <td>0.947778<\/td>\n",
       "      <td>0.021406<\/td>\n",
       "      <td>1.079657<\/td>\n",
       "      <td>0.006309<\/td>\n",
       "      <td>0.05464<\/td>\n",
       "      <td>0.021172<\/td>\n",
       "      <td>2.36653<\/td>\n",
       "      <td>0.156423<\/td>\n",
       "    <\/tr>\n",
       "    <tr>\n",
       "      <th>DOSY-R2-1-4-DMSO-128points-2<\/th>\n",
       "      <td>1.0<\/td>\n",
       "      <td>1.018568<\/td>\n",
       "      <td>0.001207<\/td>\n",
       "      <td>1.107180<\/td>\n",
       "      <td>0.001844<\/td>\n",
       "      <td>NaN<\/td>\n",
       "      <td>NaN<\/td>\n",
       "      <td>NaN<\/td>\n",
       "      <td>NaN<\/td>\n",
       "    <\/tr>\n",
       "    <tr>\n",
       "      <th>DOSY-R2-1-4-DMSO-128points-4<\/th>\n",
       "      <td>1.0<\/td>\n",
       "      <td>0.998207<\/td>\n",
       "      <td>0.000515<\/td>\n",
       "      <td>1.118136<\/td>\n",
       "      <td>0.000829<\/td>\n",
       "      <td>NaN<\/td>\n",
       "      <td>NaN<\/td>\n",
       "      <td>NaN<\/td>\n",
       "      <td>NaN<\/td>\n",
       "    <\/tr>\n",
       "    <tr>\n",
       "      <th>DOSY-R2-1-4-DMSO-128points-5<\/th>\n",
       "      <td>1.0<\/td>\n",
       "      <td>0.997153<\/td>\n",
       "      <td>0.000539<\/td>\n",
       "      <td>1.134847<\/td>\n",
       "      <td>0.000905<\/td>\n",
       "      <td>NaN<\/td>\n",
       "      <td>NaN<\/td>\n",
       "      <td>NaN<\/td>\n",
       "      <td>NaN<\/td>\n",
       "    <\/tr>\n",
       "  <\/tbody>\n",
       "<\/table>\n",
       "<\/div>"
      ]
     },
     "metadata":{
      
     },
     "output_type":"display_data"
    }
   ],
   "metadata":{
    "datalore":{
     "node_id":"9utU2lHPZduL2aVLVEz6vf",
     "type":"CODE",
     "hide_input_from_viewers":false,
     "hide_output_from_viewers":false
    }
   }
  },
  {
   "cell_type":"code",
   "source":[
    "data_analysis(x, y, n_min=1, n_max=3, method='BFGS', reg=0.005)"
   ],
   "execution_count":18,
   "outputs":[
    {
     "name":"stdout",
     "text":[
      "2\n"
     ],
     "output_type":"stream"
    },
    {
     "data":{
      "text\/plain":[
       "(2,\n",
       " array([0.00113135, 0.15115824, 0.9976185 , 1.12130326]),\n",
       " array([0.00852871, 0.05494932, 0.00852863, 0.00213275]),\n",
       " [array([0.99819325, 1.11811187]),\n",
       "  array([0.00113135, 0.15115824, 0.9976185 , 1.12130326]),\n",
       "  array([-0.04142502,  0.4345479 ,  0.31163756,  0.79520201,  0.73079371,\n",
       "          1.23821448])])"
      ]
     },
     "metadata":{
      
     },
     "output_type":"display_data"
    }
   ],
   "metadata":{
    "datalore":{
     "node_id":"rEbcLvKM2KLKGLmaDfItBW",
     "type":"CODE",
     "hide_input_from_viewers":false,
     "hide_output_from_viewers":false
    }
   }
  },
  {
   "cell_type":"code",
   "source":[
    "x, y = load_data('\/data\/workspace_files\/data\/Ri 128DOSY\/R1 128DOSY.txt', scale=1e6)"
   ],
   "execution_count":16,
   "outputs":[
    
   ],
   "metadata":{
    "datalore":{
     "node_id":"cjrTcOfRWJaRFO5cH8Cdrp",
     "type":"CODE",
     "hide_input_from_viewers":false,
     "hide_output_from_viewers":false
    }
   }
  },
  {
   "cell_type":"code",
   "source":[
    "init_theta, thetas, res = error_analysis(2, x, y, method='BFGS', reg=0.001)\n",
    "plot_parameters_space(thetas)\n",
    "print(np.std(thetas, axis=0))"
   ],
   "execution_count":9,
   "outputs":[
    {
     "data":{
      "image\/png":"[encoded data removed]"
     },
     "metadata":{
      "image\/png":{
       
      }
     },
     "output_type":"display_data"
    }
   ],
   "metadata":{
    "datalore":{
     "node_id":"86pLohZcAHnsOUmSzdt9yk",
     "type":"CODE",
     "hide_input_from_viewers":false,
     "hide_output_from_viewers":false
    }
   }
  }
 ],
 "metadata":{
  "kernelspec":{
   "display_name":"Python",
   "language":"python",
   "name":"python"
  },
  "datalore":{
   "version":1,
   "computation_mode":"JUPYTER",
   "packages":[
    
   ]
  }
 },
 "nbformat":4,
 "nbformat_minor":4
}