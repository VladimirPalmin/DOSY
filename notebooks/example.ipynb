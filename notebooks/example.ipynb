{
 "cells": [
  {
   "cell_type": "code",
   "execution_count": 5,
   "metadata": {},
   "outputs": [],
   "source": [
    "# System imports\n",
    "import pathlib\n",
    "import sys\n",
    "import warnings\n",
    "warnings.filterwarnings(\"ignore\")\n",
    "\n",
    "# Path to data in the system\n",
    "path = pathlib.Path().resolve().parent\n",
    "sys.path.insert(0, str(path))\n",
    "\n",
    "# Local imports\n",
    "from src.data_loading import load_data\n",
    "from src.main import data_analysis, data_analysis_baes, print_params"
   ]
  },
  {
   "attachments": {},
   "cell_type": "markdown",
   "metadata": {},
   "source": [
    "Загрузка файла R1-R2-1-5 из репозитория."
   ]
  },
  {
   "cell_type": "code",
   "execution_count": 2,
   "metadata": {},
   "outputs": [],
   "source": [
    "x, y = load_data(path.joinpath('data','R1-R2','R1-R2-1-5.txt'))"
   ]
  },
  {
   "attachments": {},
   "cell_type": "markdown",
   "metadata": {},
   "source": [
    "Analysis of the data with WLS estimator with predefined parameters (For information see docs for data_analysis). \\\n",
    "Returns: \\\n",
    "Number of components estimated by the model. \\\n",
    "Array with estimated parameters of the model. \\\n",
    "Array with estimated parameters' deviation."
   ]
  },
  {
   "cell_type": "code",
   "execution_count": 3,
   "metadata": {},
   "outputs": [],
   "source": [
    "num, params, params_std = data_analysis(x, y)"
   ]
  },
  {
   "attachments": {},
   "cell_type": "markdown",
   "metadata": {},
   "source": [
    "Print parameters"
   ]
  },
  {
   "cell_type": "code",
   "execution_count": 4,
   "metadata": {},
   "outputs": [
    {
     "name": "stdout",
     "output_type": "stream",
     "text": [
      "Number of components = 2\n",
      "W1 = 0.156 ± 0.017, D1 = 0.310 ± 0.021\n",
      "W2 = 0.839 ± 0.015, D2 = 1.014 ± 0.020\n"
     ]
    }
   ],
   "source": [
    "print_params(num, params, params_std)"
   ]
  },
  {
   "attachments": {},
   "cell_type": "markdown",
   "metadata": {},
   "source": [
    "Same for the MAP estimator. (outputs of data_analysis_baes were passed directly to the print_params)"
   ]
  },
  {
   "cell_type": "code",
   "execution_count": 6,
   "metadata": {},
   "outputs": [
    {
     "name": "stdout",
     "output_type": "stream",
     "text": [
      "Number of components = 2\n",
      "W1 = 0.177 ± 0.013, D1 = 0.331 ± 0.013\n",
      "W2 = 0.823 ± 0.013, D2 = 1.042 ± 0.013\n"
     ]
    }
   ],
   "source": [
    "print_params(*data_analysis_baes(x, y))"
   ]
  },
  {
   "attachments": {},
   "cell_type": "markdown",
   "metadata": {},
   "source": [
    "Ожидаемые результаты: \\\n",
    "Num of components = 2 \\\n",
    "w1 = 0.167 D1 =  0.27 \\\n",
    "w2 = 0.833 D2 = 1.04 "
   ]
  }
 ],
 "metadata": {
  "kernelspec": {
   "display_name": "base",
   "language": "python",
   "name": "python3"
  },
  "language_info": {
   "codemirror_mode": {
    "name": "ipython",
    "version": 3
   },
   "file_extension": ".py",
   "mimetype": "text/x-python",
   "name": "python",
   "nbconvert_exporter": "python",
   "pygments_lexer": "ipython3",
   "version": "3.9.7"
  },
  "orig_nbformat": 4
 },
 "nbformat": 4,
 "nbformat_minor": 2
}
