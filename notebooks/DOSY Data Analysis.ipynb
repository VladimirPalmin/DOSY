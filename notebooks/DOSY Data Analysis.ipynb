{
 "cells": [
  {
   "cell_type": "code",
   "execution_count": null,
   "metadata": {},
   "outputs": [],
   "source": [
    "import numpy as np\n",
    "import matplotlib.pyplot as plt\n",
    "from scipy import optimize\n",
    "import pathlib\n",
    "\n",
    "from src import data_loading\n",
    "from src import log_data_analysis\n",
    "from src import mixture_fit"
   ]
  },
  {
   "cell_type": "markdown",
   "metadata": {
    "pycharm": {
     "name": "#%% md\n"
    }
   },
   "source": []
  },
  {
   "cell_type": "code",
   "execution_count": null,
   "metadata": {
    "pycharm": {
     "name": "#%%\n"
    }
   },
   "outputs": [],
   "source": [
    "home = pathlib.Path.home()\n",
    "path = pathlib.Path(home, 'DOSY\\data', 'R1-R2-5-3-new.txt')"
   ]
  },
  {
   "cell_type": "code",
   "execution_count": null,
   "metadata": {
    "pycharm": {
     "name": "#%%\n"
    }
   },
   "outputs": [],
   "source": [
    "x, y = data_loading.load_data(path)\n",
    "plt.plot(x, y)"
   ]
  },
  {
   "cell_type": "code",
   "execution_count": null,
   "metadata": {
    "pycharm": {
     "name": "#%%\n"
    }
   },
   "outputs": [],
   "source": [
    "n = 3\n",
    "\n",
    "w_min = 0.01\n",
    "D1, Dn, w1 = log_data_analysis.log_estimate(x, y, w_min=w_min)\n",
    "\n",
    "x0, bnds = log_data_analysis.bounds(D1=D1, w1=w1, n=n, D_max=0.1, w_min=w_min)\n",
    "res = optimize.minimize(fun=mixture_fit.loss_function, x0=x0, args=(x, y, n),\n",
    "                        method='L-BFGS-B', bounds=bnds,\n",
    "                        options={'eps': 1e-15, 'gtol': 1e-10, 'ftol': 1e-12})"
   ]
  },
  {
   "cell_type": "code",
   "execution_count": null,
   "metadata": {
    "pycharm": {
     "name": "#%%\n"
    }
   },
   "outputs": [],
   "source": [
    "yf = mixture_fit.exp_mixture(x, res.x.reshape(n, 2))\n",
    "plt.plot(x, y, '.')\n",
    "plt.plot(x, yf)\n",
    "print(res.fun)"
   ]
  },
  {
   "cell_type": "code",
   "execution_count": null,
   "metadata": {
    "pycharm": {
     "name": "#%%\n"
    }
   },
   "outputs": [],
   "source": [
    "print(res.x.reshape(n, 2))"
   ]
  },
  {
   "cell_type": "markdown",
   "metadata": {
    "pycharm": {
     "name": "#%% md\n"
    }
   },
   "source": [
    "## Simulated Data"
   ]
  },
  {
   "cell_type": "code",
   "execution_count": null,
   "metadata": {
    "pycharm": {
     "name": "#%%\n"
    }
   },
   "outputs": [],
   "source": [
    "np.random.seed(42)\n",
    "real = np.array([[0.3, 0.01],\n",
    "                 [0.4, 0.03],\n",
    "                 [0.3, 0.06],\n",
    "                 ])\n",
    "y = np.random.normal(loc=mixture_fit.exp_mixture(x, real), scale=0.001)\n",
    "plt.plot(x, y)"
   ]
  },
  {
   "cell_type": "code",
   "execution_count": null,
   "metadata": {
    "pycharm": {
     "name": "#%%\n"
    }
   },
   "outputs": [],
   "source": [
    "n = 3\n",
    "\n",
    "w_min = 0.01\n",
    "D1, Dn, w1 = log_data_analysis.log_estimate(x, y, w_min=w_min)\n",
    "\n",
    "x0, bnds = log_data_analysis.bounds(D1=D1, w1=w1, n=n, D_max=0.1, w_min=w_min)\n",
    "res = optimize.minimize(fun=mixture_fit.loss_function, x0=x0, args=(x, y, n),\n",
    "                        method='L-BFGS-B', bounds=bnds,\n",
    "                        options={'eps': 1e-9, 'gtol': 1e-7, 'ftol': 1e-8})\n",
    "yf = mixture_fit.exp_mixture(x, res.x.reshape(n, 2))\n",
    "plt.plot(x, y, '.')\n",
    "plt.plot(x, yf)\n",
    "print(res.fun)"
   ]
  },
  {
   "cell_type": "code",
   "execution_count": null,
   "metadata": {
    "pycharm": {
     "name": "#%%\n"
    }
   },
   "outputs": [],
   "source": [
    "print(x0.reshape(n, 2))"
   ]
  },
  {
   "cell_type": "code",
   "execution_count": null,
   "metadata": {
    "pycharm": {
     "name": "#%%\n"
    }
   },
   "outputs": [],
   "source": [
    "print(res.x.reshape(n, 2))"
   ]
  },
  {
   "cell_type": "code",
   "execution_count": null,
   "metadata": {
    "pycharm": {
     "name": "#%%\n"
    }
   },
   "outputs": [],
   "source": [
    "print(real)"
   ]
  },
  {
   "cell_type": "code",
   "execution_count": null,
   "metadata": {
    "pycharm": {
     "name": "#%%\n"
    }
   },
   "outputs": [],
   "source": [
    "print(bnds.lb.reshape(n, 2))"
   ]
  },
  {
   "cell_type": "code",
   "execution_count": null,
   "metadata": {
    "pycharm": {
     "name": "#%%\n"
    }
   },
   "outputs": [],
   "source": []
  }
 ],
 "metadata": {
  "kernelspec": {
   "display_name": "Python 3 (ipykernel)",
   "language": "python",
   "name": "python3"
  },
  "language_info": {
   "codemirror_mode": {
    "name": "ipython",
    "version": 3
   },
   "file_extension": ".py",
   "mimetype": "text/x-python",
   "name": "python",
   "nbconvert_exporter": "python",
   "pygments_lexer": "ipython3",
   "version": "3.10.0"
  }
 },
 "nbformat": 4,
 "nbformat_minor": 1
}
