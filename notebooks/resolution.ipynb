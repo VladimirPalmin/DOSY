{
 "cells": [
  {
   "cell_type": "code",
   "execution_count": 2,
   "metadata": {
    "datalore": {
     "hide_input_from_viewers": false,
     "hide_output_from_viewers": false,
     "node_id": "3vBXN7PuVujVP1HQHBwcnl",
     "report_properties": {
      "rowId": "8uahR3Fror1BgnuwJz0ycN"
     },
     "type": "CODE"
    }
   },
   "outputs": [],
   "source": [
    "import numpy as np\n",
    "import matplotlib.pyplot as plt\n",
    "from tqdm.auto import tqdm\n",
    "from glob import glob\n",
    "\n",
    "import pathlib\n",
    "import sys\n",
    "\n",
    "path = pathlib.Path().resolve().parent\n",
    "sys.path.insert(0, str(path))\n",
    "\n",
    "from src.mixture_fit import fits, sum_exp, right_order, fits_baes\n",
    "from src.data_loading import load_data\n",
    "from src.bootstrapping import bootstrap\n",
    "from src.main import data_analysis, data_analysis_baes\n",
    "\n",
    "from typing import Optional\n",
    "\n",
    "import warnings\n",
    "warnings.filterwarnings(\"ignore\")"
   ]
  },
  {
   "cell_type": "code",
   "execution_count": 6,
   "metadata": {
    "datalore": {
     "hide_input_from_viewers": false,
     "hide_output_from_viewers": false,
     "node_id": "3Wgyszu3cQUkDbNdgQu3Qc",
     "report_properties": {
      "rowId": "EhBI1oHbB1hKaCnVWWvMKr"
     },
     "type": "CODE"
    }
   },
   "outputs": [],
   "source": [
    "def c_picker(val: float,\n",
    "             lim1: float = 0.1,\n",
    "             lim2: float = 0.3) -> str:\n",
    "    \"\"\"\n",
    "    Color coding of the values\n",
    "\n",
    "    Parameters\n",
    "    ----------\n",
    "    val: float\n",
    "        Value to color code.\n",
    "    lim1: float\n",
    "        Limit value for green color.\n",
    "    lim2: float\n",
    "        Limit value for orange color.\n",
    "\n",
    "    Returns\n",
    "    -------\n",
    "    str\n",
    "        Color of the passed value.    \n",
    "    \"\"\"\n",
    "    if val < lim1:\n",
    "        return 'green'\n",
    "    elif val < lim2:\n",
    "        return 'orange'\n",
    "    else:\n",
    "        return 'red'\n",
    "    \n",
    "\n",
    "def calc_diff(results: np.ndarray,\n",
    "              sigmas: np.ndarray,\n",
    "              true_results: np.ndarray) -> np.ndarray:\n",
    "    \"\"\"\n",
    "    Calculation of the mean difference between estimated\n",
    "    and expected parameters in units of standart deviations.\n",
    "\n",
    "    Parameters\n",
    "    ----------\n",
    "    results: np.ndarray\n",
    "        Estimated results of the parameters.\n",
    "    sigmas: np.ndarray\n",
    "        Standard deviation values for the estimated parameteres.\n",
    "    true_results: np.ndarray\n",
    "        Expected results of the parameters.\n",
    "\n",
    "    Returns\n",
    "    -------\n",
    "    diff: np.ndarray\n",
    "        Mean difference between estimated and expected parameters\n",
    "        in units of standart deviations. \n",
    "    \"\"\"\n",
    "    n = len(results)\n",
    "    diff = np.zeros(n)\n",
    "    for i in range(n):\n",
    "        res = results[i]\n",
    "        res_s = sigmas[i]\n",
    "        tru_res = true_results[i]\n",
    "        if len(res) < 4:\n",
    "            diff[i] = 1\n",
    "        else:\n",
    "            for j in range(4):\n",
    "                if np.abs(res[j] - tru_res[j]) > res_s[j]:\n",
    "                    diff[i] += np.abs(res[j] - tru_res[j])/res[j]\n",
    "                diff[i] = diff[i]/4\n",
    "    return diff"
   ]
  },
  {
   "cell_type": "code",
   "execution_count": 7,
   "metadata": {
    "datalore": {
     "hide_input_from_viewers": true,
     "hide_output_from_viewers": true,
     "node_id": "ypFrmqmRqdrUusmsWbQmVX",
     "type": "CODE"
    }
   },
   "outputs": [],
   "source": [
    "def resolution(fun_name: str,\n",
    "               bs_num: int = 100,\n",
    "               size: int = 20,\n",
    "               log: bool = True,\n",
    "               save_path: Optional[str] = None,\n",
    "               *args, **kwargs):\n",
    "    \"\"\"\n",
    "    Testing procedure for resolution power\n",
    "    of the chosen estimator.\n",
    "\n",
    "    Parameters\n",
    "    ----------\n",
    "    fun_name: str\n",
    "        The estimator to be used in the testing procedure.\n",
    "        'WLS' for Weighted least squares,\n",
    "        'MAP' for Maximum a posteriori estimator.\n",
    "    bs_num: int = 100\n",
    "        Number of simulations to run for each point on the parameter space.\n",
    "    size: int = 20\n",
    "        Number of points to divide the parameter space into along each axis.\n",
    "    log: bool = True\n",
    "        If True prints/draws the output.\n",
    "    save_path: str or None = None\n",
    "        Path to save the plot if log=True. If None draws the plot\n",
    "        in interactive window.\n",
    "    *args, **kwargs\n",
    "        Used to pass arguments to fun. Avoid repetitions with resolution arguments.\n",
    "\n",
    "    Returns\n",
    "    -------\n",
    "    w_space: np.ndarray\n",
    "        Array with the values of weights of the first component used in testing\n",
    "    D_space: np.ndarray\n",
    "        Array with the values of self-diffusion coefficient of the first component\n",
    "        used in testing.\n",
    "    guess_arr: np.ndarray\n",
    "        2-d array with the number of correctly guessed number of components across\n",
    "        the parameter space.\n",
    "    mean_arr: np.ndarray\n",
    "        3-d array with the mean values of parameters among the correctly guessed components\n",
    "        across the parameter space.\n",
    "    std_arr: np.ndarray\n",
    "        3-d array with the std values of parameters among the correctly guessed components\n",
    "        across the parameter space.\n",
    "    results: np.ndarray\n",
    "        Results of estimating the parameters on real data with the chosen estimator.\n",
    "    true_result: np.ndarray\n",
    "        Expected parameters on the real data.\n",
    "    \"\"\"\n",
    "    if fun_name == 'WLS':\n",
    "        fun = fits\n",
    "    elif fun_name == 'MAP':\n",
    "        fun = fits_baes\n",
    "    else:\n",
    "        raise ValueError('fun_name must be \"WLS\" or \"MAP\".')\n",
    "    # Calculate the parameter space of given size.\n",
    "    w_space = np.linspace(0, 0.5, size)\n",
    "    D_space = np.linspace(0.1, 1, size)\n",
    "\n",
    "    folder = pathlib.Path(path,'data', 'R2_5times')\n",
    "    data_path = pathlib.Path(folder, f'DOSY-R2-1-4-DMSO-128points-1.txt')\n",
    "    x, _ = load_data(data_path)\n",
    "    guess_arr = np.zeros((len(w_space), len(D_space)))\n",
    "    mean_arr = np.zeros((len(w_space), len(D_space), 4))\n",
    "    std_arr = np.zeros((len(w_space), len(D_space), 4))\n",
    "    with tqdm(total=len(w_space) * len(D_space), desc='Calculating parameter space') as pbar:\n",
    "        for w_idx, w1 in enumerate(w_space):\n",
    "            for D_idx, D1 in enumerate(D_space):\n",
    "                w2, D2 = 1 - w1, 1\n",
    "                params = np.array([w1, D1, w2, D2])\n",
    "                y_model = sum_exp(params, x)\n",
    "                res, optim_res = bootstrap(fun, x, y_model, 0.0186, num=bs_num, show_progress=False, *args, **kwargs)\n",
    "\n",
    "                correct_guess = (optim_res[:, 0] == 1)\n",
    "                if correct_guess.sum() == 0:\n",
    "                    correct_mean = np.zeros(4)\n",
    "                    correct_std = np.zeros(4)\n",
    "                else:\n",
    "                    stacked_res = np.vstack(optim_res[:, 1][correct_guess])\n",
    "                    correct_mean = stacked_res.mean(0)\n",
    "                    correct_std = stacked_res.std(0)\n",
    "\n",
    "                guess_arr[w_idx, D_idx] = correct_guess.sum()\n",
    "                mean_arr[w_idx, D_idx] = correct_mean\n",
    "                std_arr[w_idx, D_idx] = correct_std\n",
    "\n",
    "                pbar.update(1)\n",
    "    \n",
    "    # Calculate the parameteres of real data with chosen optimization method.\n",
    "    files = glob(f'{path}/data/R?-R?/R?-R?-?-?*.txt')\n",
    "    D_coef_dict = {'R1':0.27, 'R2':1.044, 'R4':0.70, 'R5':0.46}\n",
    "\n",
    "    label, results = [], []\n",
    "    results_std = []\n",
    "    for file in tqdm(files, desc='Calculating real data optimization parameteres'):\n",
    "        x, y = load_data(file)\n",
    "        try:\n",
    "            if fun_name == 'WLS':\n",
    "                indx, params_opt, params_opt_std = data_analysis(x, y)\n",
    "            elif fun_name == 'MAP':\n",
    "                indx, params_opt, params_opt_std = data_analysis_baes(x, y)\n",
    "\n",
    "            label.append(file[11:file.find('.txt')])\n",
    "            results.append(params_opt)\n",
    "            results_std.append(params_opt_std)\n",
    "        except ValueError:\n",
    "            label.append(file[11:file.find('.txt')])\n",
    "            results.append(np.zeros(4))\n",
    "            \n",
    "    # Calculate the expected values of real data\n",
    "    true_result = []\n",
    "    for file in files:\n",
    "        parser = file[file.find('.txt')-9:file.find('.txt')].split('-')\n",
    "        total_portions = int(parser[2]) + int(parser[3])\n",
    "        out_params = [int(parser[2])/total_portions, D_coef_dict[parser[0]], int(parser[3])/total_portions, D_coef_dict[parser[1]]]\n",
    "        out_params = right_order(np.array(out_params))\n",
    "        true_result.append(out_params)\n",
    "    true_result = np.vstack(true_result)\n",
    "\n",
    "    if log:\n",
    "        D_axis = D_space-np.diff(D_space)[0]/2\n",
    "        w_axis = 1 - 2 * (w_space)\n",
    "        w_axis = w_axis - np.diff(w_axis)[0]/2\n",
    "\n",
    "        plt.close('all')\n",
    "        plt.figure(figsize=(8,8))\n",
    "\n",
    "        abs_diff = calc_diff(results, true_result, results_std) #(np.abs(results - true_result)/results).mean(1)\n",
    "        colors = [c_picker(abs_diff_el, 0.05, 0.32) for abs_diff_el in abs_diff]\n",
    "        \n",
    "        ratio = []\n",
    "        diff = []\n",
    "        for res in results:\n",
    "            if len(res) == 4:\n",
    "                ratio.append(res[1]/res[3])\n",
    "                diff.append(np.abs(res[2] - res[0]))\n",
    "            else:\n",
    "                ratio.append(1)\n",
    "                diff.append(0)\n",
    "\n",
    "        plt.pcolormesh(D_axis, w_axis, guess_arr/guess_arr.max(), vmin=0, vmax=1)\n",
    "        plt.scatter(ratio, diff, edgecolors='black', c=colors)\n",
    "        plt.xlabel('D1/D2 ratio')\n",
    "        plt.ylabel('w2-w1')\n",
    "        plt.colorbar(orientation='horizontal')\n",
    "        plt.xticks(rotation=45)\n",
    "        plt.xlim(left=D_axis.min())\n",
    "        plt.ylim(bottom=w_axis.min())\n",
    "\n",
    "        plt.tight_layout()\n",
    "        if save_path:\n",
    "            plt.savefig(save_path, dpi=150)\n",
    "        else:\n",
    "            plt.show()\n",
    "\n",
    "        print('Area')\n",
    "        area = (guess_arr > 0.9).mean()\n",
    "        print(area)\n",
    "\n",
    "    return w_space, D_space, guess_arr, mean_arr, std_arr, results, true_result"
   ]
  },
  {
   "cell_type": "code",
   "execution_count": 8,
   "metadata": {
    "datalore": {
     "hide_input_from_viewers": true,
     "hide_output_from_viewers": true,
     "node_id": "4Z3gAMRjfgWr0nSeJP37FM",
     "type": "CODE"
    }
   },
   "outputs": [
    {
     "data": {
      "application/vnd.jupyter.widget-view+json": {
       "model_id": "71aa92515c2f4f43bfb4ee448a18d7b3",
       "version_major": 2,
       "version_minor": 0
      },
      "text/plain": [
       "Calculating parameter space:   0%|          | 0/16 [00:00<?, ?it/s]"
      ]
     },
     "metadata": {},
     "output_type": "display_data"
    },
    {
     "data": {
      "application/vnd.jupyter.widget-view+json": {
       "model_id": "6b68e37d7adc41caa21c3f453beb47b3",
       "version_major": 2,
       "version_minor": 0
      },
      "text/plain": [
       "Calculating real data optimization parameteres:   0%|          | 0/26 [00:00<?, ?it/s]"
      ]
     },
     "metadata": {},
     "output_type": "display_data"
    },
    {
     "data": {
      "image/png": "[encoded data removed]",
      "text/plain": [
       "<Figure size 576x576 with 2 Axes>"
      ]
     },
     "metadata": {
      "needs_background": "light"
     },
     "output_type": "display_data"
    },
    {
     "name": "stdout",
     "output_type": "stream",
     "text": [
      "Area\n",
      "0.5625\n"
     ]
    }
   ],
   "source": [
    "w_space, D_space, guess_arr, mean_arr, std_arr, results, true_result = resolution('WLS', bs_num=10, size=20,\n",
    "                                                                                  method='BFGS', boost=True, reg=1.3, sigma=0.02)"
   ]
  },
  {
   "cell_type": "code",
   "execution_count": null,
   "metadata": {},
   "outputs": [],
   "source": []
  }
 ],
 "metadata": {
  "datalore": {
   "base_environment": "default",
   "computation_mode": "JUPYTER",
   "package_manager": "pip",
   "packages": [],
   "report_row_ids": [
    "8uahR3Fror1BgnuwJz0ycN",
    "RjuW0fchk9Cffp3LGk4qon",
    "EhBI1oHbB1hKaCnVWWvMKr",
    "PP8CzZwjO6YpgamCIokvhx",
    "LPHb3gjGLtzyCoIt2noIlE",
    "AH3AIzNSEZDTpKBqXg2hpD",
    "UBTkcSgBazvRoysUq9R2GR",
    "SmBIbROwfBCZ6KrTMGRxJO",
    "50nNKkNmAeIXy8I1FuCE0V",
    "YK5zGvTdORmWN4XTMmVDb4",
    "ZNQek1vaNQVULqmpnQO9Wm"
   ],
   "version": 3
  },
  "kernelspec": {
   "display_name": "base",
   "language": "python",
   "name": "python3"
  },
  "language_info": {
   "codemirror_mode": {
    "name": "ipython",
    "version": 3
   },
   "file_extension": ".py",
   "mimetype": "text/x-python",
   "name": "python",
   "nbconvert_exporter": "python",
   "pygments_lexer": "ipython3",
   "version": "3.9.7"
  },
  "widgets": {
   "application/vnd.jupyter.widget-state+json": {
    "state": {
     "0332119961404df7bb7addfea3f06b52": {
      "model_module": "@jupyter-widgets/base",
      "model_module_version": "1.2.0",
      "model_name": "LayoutModel",
      "state": {}
     },
     "0a07a8af0cb54078b44e7f6611a41fdb": {
      "model_module": "@jupyter-widgets/base",
      "model_module_version": "1.2.0",
      "model_name": "LayoutModel",
      "state": {}
     },
     "0b85859d07f14508a96bfd33d409a877": {
      "model_module": "@jupyter-widgets/base",
      "model_module_version": "1.2.0",
      "model_name": "LayoutModel",
      "state": {}
     },
     "0bcb43cae1ff4c2b8ccf8a6f16574b9d": {
      "model_module": "@jupyter-widgets/base",
      "model_module_version": "1.2.0",
      "model_name": "LayoutModel",
      "state": {}
     },
     "0dd8d4acbd6e42af8cd2d938dccc24c3": {
      "model_module": "@jupyter-widgets/base",
      "model_module_version": "1.2.0",
      "model_name": "LayoutModel",
      "state": {}
     },
     "0e01af2b50cd4198a0e5af3700d369c4": {
      "model_module": "@jupyter-widgets/controls",
      "model_module_version": "1.5.0",
      "model_name": "ProgressStyleModel",
      "state": {
       "description_width": ""
      }
     },
     "118b7f6e0ab04cc9b76d196eff63af79": {
      "model_module": "@jupyter-widgets/controls",
      "model_module_version": "1.5.0",
      "model_name": "HTMLModel",
      "state": {
       "layout": "IPY_MODEL_25f8a024e98a4fa2ab899021f82980ac",
       "style": "IPY_MODEL_d9946b5118634ed2b62d41f3990097dc",
       "value": " 37/37 [00:59&lt;00:00,  1.66s/it]"
      }
     },
     "149c1c15e7a94da1ac14d73ab53885d6": {
      "model_module": "@jupyter-widgets/controls",
      "model_module_version": "1.5.0",
      "model_name": "ProgressStyleModel",
      "state": {
       "description_width": ""
      }
     },
     "190b9d2fb20d45edbd2fb510a3279da8": {
      "model_module": "@jupyter-widgets/controls",
      "model_module_version": "1.5.0",
      "model_name": "ProgressStyleModel",
      "state": {
       "description_width": ""
      }
     },
     "19b1062b006c4e89af887b7f68bc9b14": {
      "model_module": "@jupyter-widgets/controls",
      "model_module_version": "1.5.0",
      "model_name": "HTMLModel",
      "state": {
       "layout": "IPY_MODEL_821465251dbe4b4e84ac84ff0041b33f",
       "style": "IPY_MODEL_7735dc7100a74d81a83ce2523e8c5e77",
       "value": " 0/400 [00:00&lt;?, ?it/s]"
      }
     },
     "1a294f167272435c834946d4da0a3b33": {
      "model_module": "@jupyter-widgets/controls",
      "model_module_version": "1.5.0",
      "model_name": "DescriptionStyleModel",
      "state": {
       "description_width": ""
      }
     },
     "1a442beff53542629b329990b2445e86": {
      "model_module": "@jupyter-widgets/base",
      "model_module_version": "1.2.0",
      "model_name": "LayoutModel",
      "state": {}
     },
     "1b292e2baaa24d868485f9708e80a0e0": {
      "model_module": "@jupyter-widgets/controls",
      "model_module_version": "1.5.0",
      "model_name": "FloatProgressModel",
      "state": {
       "bar_style": "success",
       "layout": "IPY_MODEL_3ae60e8179af4d969db3878fe3204cc6",
       "max": 37,
       "style": "IPY_MODEL_4e33a2b0a9534d9680aa123db27865c8",
       "value": 37
      }
     },
     "1dbadd5a6aee4c0b9e6f632ab33e9a9e": {
      "model_module": "@jupyter-widgets/controls",
      "model_module_version": "1.5.0",
      "model_name": "ProgressStyleModel",
      "state": {
       "description_width": ""
      }
     },
     "23ce2f60d73a49f58ed1badaafcaaf5a": {
      "model_module": "@jupyter-widgets/controls",
      "model_module_version": "1.5.0",
      "model_name": "DescriptionStyleModel",
      "state": {
       "description_width": ""
      }
     },
     "25f8a024e98a4fa2ab899021f82980ac": {
      "model_module": "@jupyter-widgets/base",
      "model_module_version": "1.2.0",
      "model_name": "LayoutModel",
      "state": {}
     },
     "29bf8f2b786c42718571d00a9267bca0": {
      "model_module": "@jupyter-widgets/controls",
      "model_module_version": "1.5.0",
      "model_name": "HTMLModel",
      "state": {
       "layout": "IPY_MODEL_0dd8d4acbd6e42af8cd2d938dccc24c3",
       "style": "IPY_MODEL_23ce2f60d73a49f58ed1badaafcaaf5a",
       "value": "Calculating parameter space: 100%"
      }
     },
     "2b217273b3554f2e9e95edbf4c9eb575": {
      "model_module": "@jupyter-widgets/controls",
      "model_module_version": "1.5.0",
      "model_name": "DescriptionStyleModel",
      "state": {
       "description_width": ""
      }
     },
     "2c171a16a8d9413aa1d3764aea259a2d": {
      "model_module": "@jupyter-widgets/base",
      "model_module_version": "1.2.0",
      "model_name": "LayoutModel",
      "state": {}
     },
     "35cbf365026a4ab895f6011f8d176df0": {
      "model_module": "@jupyter-widgets/controls",
      "model_module_version": "1.5.0",
      "model_name": "DescriptionStyleModel",
      "state": {
       "description_width": ""
      }
     },
     "396297f65952404e978ae6faf6e2664c": {
      "model_module": "@jupyter-widgets/base",
      "model_module_version": "1.2.0",
      "model_name": "LayoutModel",
      "state": {}
     },
     "3ae60e8179af4d969db3878fe3204cc6": {
      "model_module": "@jupyter-widgets/base",
      "model_module_version": "1.2.0",
      "model_name": "LayoutModel",
      "state": {}
     },
     "3b9933e8a544446a9a8fb7a1cf25fdb6": {
      "model_module": "@jupyter-widgets/controls",
      "model_module_version": "1.5.0",
      "model_name": "HTMLModel",
      "state": {
       "layout": "IPY_MODEL_396297f65952404e978ae6faf6e2664c",
       "style": "IPY_MODEL_e72557272aea4cb79227379a8eb48690",
       "value": "Calculating parameter space:   0%"
      }
     },
     "498d37914a0b419c9886a59f71e7c70b": {
      "model_module": "@jupyter-widgets/controls",
      "model_module_version": "1.5.0",
      "model_name": "HTMLModel",
      "state": {
       "layout": "IPY_MODEL_f0780f3237364de8bfbfdf58b0aa60e7",
       "style": "IPY_MODEL_e657877f274b476da0329b4ddcf546d6",
       "value": " 0/0 [00:00&lt;?, ?it/s]"
      }
     },
     "4ae4c01e61a54f4ba2577f1266932300": {
      "model_module": "@jupyter-widgets/controls",
      "model_module_version": "1.5.0",
      "model_name": "ProgressStyleModel",
      "state": {
       "description_width": ""
      }
     },
     "4e33a2b0a9534d9680aa123db27865c8": {
      "model_module": "@jupyter-widgets/controls",
      "model_module_version": "1.5.0",
      "model_name": "ProgressStyleModel",
      "state": {
       "description_width": ""
      }
     },
     "4ede8d4d0252477fb4df9ca4bbd7052b": {
      "model_module": "@jupyter-widgets/base",
      "model_module_version": "1.2.0",
      "model_name": "LayoutModel",
      "state": {}
     },
     "51801a323934423d8a74b97bec9d1903": {
      "model_module": "@jupyter-widgets/controls",
      "model_module_version": "1.5.0",
      "model_name": "ProgressStyleModel",
      "state": {
       "description_width": ""
      }
     },
     "53545c2237e24126b32d26a9fd8a6d21": {
      "model_module": "@jupyter-widgets/controls",
      "model_module_version": "1.5.0",
      "model_name": "HBoxModel",
      "state": {
       "children": [
        "IPY_MODEL_d3d009292e1440b1ab9b24672abd2b82",
        "IPY_MODEL_7607332ef2c042d4a664a318f27e17fe",
        "IPY_MODEL_9e5bd083fb93484fbdc56526d1b42bf1"
       ],
       "layout": "IPY_MODEL_77b5c1f10bd24eef9ee8c39697939752"
      }
     },
     "53de79d664e14551a9362393f676a6f9": {
      "model_module": "@jupyter-widgets/controls",
      "model_module_version": "1.5.0",
      "model_name": "HBoxModel",
      "state": {
       "children": [
        "IPY_MODEL_29bf8f2b786c42718571d00a9267bca0",
        "IPY_MODEL_f80c44f839b94afa8e1831d603e48e5b",
        "IPY_MODEL_764b8f5e6e9a4a199e5096088a7ad112"
       ],
       "layout": "IPY_MODEL_e05eb309cb4e4e2cb84e3a3e1e784cc4"
      }
     },
     "54552219c8ac498c8d8c61ee65bdba1d": {
      "model_module": "@jupyter-widgets/base",
      "model_module_version": "1.2.0",
      "model_name": "LayoutModel",
      "state": {}
     },
     "55c3bf2ff0c94e6997f9216451f576d0": {
      "model_module": "@jupyter-widgets/controls",
      "model_module_version": "1.5.0",
      "model_name": "HBoxModel",
      "state": {
       "children": [
        "IPY_MODEL_eb20efb58ca64afe809e2618f4f6a698",
        "IPY_MODEL_98cc374098cc439ea485e3d0807fe59c",
        "IPY_MODEL_587218788c754ee491137a0d5fd9523e"
       ],
       "layout": "IPY_MODEL_c9b327591ff8441098ed12ada9ac1321"
      }
     },
     "587218788c754ee491137a0d5fd9523e": {
      "model_module": "@jupyter-widgets/controls",
      "model_module_version": "1.5.0",
      "model_name": "HTMLModel",
      "state": {
       "layout": "IPY_MODEL_986cfa49f46d4b5486ca934c28a9ab2f",
       "style": "IPY_MODEL_1a294f167272435c834946d4da0a3b33",
       "value": " 37/37 [01:00&lt;00:00,  1.69s/it]"
      }
     },
     "5d6948967eec42bcb1bafae833e8e715": {
      "model_module": "@jupyter-widgets/controls",
      "model_module_version": "1.5.0",
      "model_name": "HTMLModel",
      "state": {
       "layout": "IPY_MODEL_c8ab210db5ac4a89a945bd7598418055",
       "style": "IPY_MODEL_fdb79293dc2043d88effbf38e33a506d",
       "value": "Calculating parameter space: 100%"
      }
     },
     "6cb10400a87547d2908aed0b5f6bea59": {
      "model_module": "@jupyter-widgets/controls",
      "model_module_version": "1.5.0",
      "model_name": "FloatProgressModel",
      "state": {
       "bar_style": "success",
       "layout": "IPY_MODEL_ee95400c4ce745a2af3d7aac8a39b8ee",
       "max": 37,
       "style": "IPY_MODEL_149c1c15e7a94da1ac14d73ab53885d6",
       "value": 37
      }
     },
     "6e36930f66f3492cbccdea50b65da0b6": {
      "model_module": "@jupyter-widgets/controls",
      "model_module_version": "1.5.0",
      "model_name": "HTMLModel",
      "state": {
       "layout": "IPY_MODEL_a676bef8a7ba4f35bfb36d9942691298",
       "style": "IPY_MODEL_76a595b8248a41a0ad3ae5428a239ab1",
       "value": "Calculating real data optimization parameteres: 100%"
      }
     },
     "6e6c23195bac42ceb572ad094e0f68c5": {
      "model_module": "@jupyter-widgets/controls",
      "model_module_version": "1.5.0",
      "model_name": "DescriptionStyleModel",
      "state": {
       "description_width": ""
      }
     },
     "75e9e8f9a83644ac8a30b2daf6698e63": {
      "model_module": "@jupyter-widgets/controls",
      "model_module_version": "1.5.0",
      "model_name": "HBoxModel",
      "state": {
       "children": [
        "IPY_MODEL_6e36930f66f3492cbccdea50b65da0b6",
        "IPY_MODEL_6cb10400a87547d2908aed0b5f6bea59",
        "IPY_MODEL_e9ae3ce6945f4e23b53420ca57bd2e94"
       ],
       "layout": "IPY_MODEL_7bb183e2c406481da8c330f9b6bb51d1"
      }
     },
     "7607332ef2c042d4a664a318f27e17fe": {
      "model_module": "@jupyter-widgets/controls",
      "model_module_version": "1.5.0",
      "model_name": "FloatProgressModel",
      "state": {
       "bar_style": "danger",
       "layout": "IPY_MODEL_e0130b4d814447df8d6c8461e2778e1f",
       "max": 400,
       "style": "IPY_MODEL_0e01af2b50cd4198a0e5af3700d369c4"
      }
     },
     "764b8f5e6e9a4a199e5096088a7ad112": {
      "model_module": "@jupyter-widgets/controls",
      "model_module_version": "1.5.0",
      "model_name": "HTMLModel",
      "state": {
       "layout": "IPY_MODEL_1a442beff53542629b329990b2445e86",
       "style": "IPY_MODEL_fcf4554ef96d469a906b1ca337965d82",
       "value": " 400/400 [03:53&lt;00:00,  1.54it/s]"
      }
     },
     "76a595b8248a41a0ad3ae5428a239ab1": {
      "model_module": "@jupyter-widgets/controls",
      "model_module_version": "1.5.0",
      "model_name": "DescriptionStyleModel",
      "state": {
       "description_width": ""
      }
     },
     "7735dc7100a74d81a83ce2523e8c5e77": {
      "model_module": "@jupyter-widgets/controls",
      "model_module_version": "1.5.0",
      "model_name": "DescriptionStyleModel",
      "state": {
       "description_width": ""
      }
     },
     "77b5c1f10bd24eef9ee8c39697939752": {
      "model_module": "@jupyter-widgets/base",
      "model_module_version": "1.2.0",
      "model_name": "LayoutModel",
      "state": {}
     },
     "794f18054e60433f9f76c8186b102904": {
      "model_module": "@jupyter-widgets/controls",
      "model_module_version": "1.5.0",
      "model_name": "DescriptionStyleModel",
      "state": {
       "description_width": ""
      }
     },
     "7bb183e2c406481da8c330f9b6bb51d1": {
      "model_module": "@jupyter-widgets/base",
      "model_module_version": "1.2.0",
      "model_name": "LayoutModel",
      "state": {}
     },
     "7e7c6578003f4d9190439ecbbc0ecd3c": {
      "model_module": "@jupyter-widgets/base",
      "model_module_version": "1.2.0",
      "model_name": "LayoutModel",
      "state": {}
     },
     "821465251dbe4b4e84ac84ff0041b33f": {
      "model_module": "@jupyter-widgets/base",
      "model_module_version": "1.2.0",
      "model_name": "LayoutModel",
      "state": {}
     },
     "841edd1ea9b042418071cabcba8416ba": {
      "model_module": "@jupyter-widgets/controls",
      "model_module_version": "1.5.0",
      "model_name": "HBoxModel",
      "state": {
       "children": [
        "IPY_MODEL_3b9933e8a544446a9a8fb7a1cf25fdb6",
        "IPY_MODEL_d4893d7ee0e549898f377cb4cf8f270d",
        "IPY_MODEL_19b1062b006c4e89af887b7f68bc9b14"
       ],
       "layout": "IPY_MODEL_54552219c8ac498c8d8c61ee65bdba1d"
      }
     },
     "8707d65a71034a48a9074cd076807b7b": {
      "model_module": "@jupyter-widgets/controls",
      "model_module_version": "1.5.0",
      "model_name": "FloatProgressModel",
      "state": {
       "bar_style": "success",
       "layout": "IPY_MODEL_98e11c2581c54220b31b0a8526851080",
       "max": 1,
       "style": "IPY_MODEL_190b9d2fb20d45edbd2fb510a3279da8"
      }
     },
     "892a56a094b147b9984c8e613334d96b": {
      "model_module": "@jupyter-widgets/controls",
      "model_module_version": "1.5.0",
      "model_name": "DescriptionStyleModel",
      "state": {
       "description_width": ""
      }
     },
     "9277a4479302400ebe2505894cb05d94": {
      "model_module": "@jupyter-widgets/controls",
      "model_module_version": "1.5.0",
      "model_name": "HBoxModel",
      "state": {
       "children": [
        "IPY_MODEL_5d6948967eec42bcb1bafae833e8e715",
        "IPY_MODEL_aca215eb69a3412ea0a7c4d93555dd0d",
        "IPY_MODEL_e453d43a883341a7bcc864f072523028"
       ],
       "layout": "IPY_MODEL_975b6099603940f798580284de2c2882"
      }
     },
     "975b6099603940f798580284de2c2882": {
      "model_module": "@jupyter-widgets/base",
      "model_module_version": "1.2.0",
      "model_name": "LayoutModel",
      "state": {}
     },
     "97f54094c1024ed5882fff0565c3cb03": {
      "model_module": "@jupyter-widgets/controls",
      "model_module_version": "1.5.0",
      "model_name": "HBoxModel",
      "state": {
       "children": [
        "IPY_MODEL_e8e5c6a59de941a085ce1252125b5693",
        "IPY_MODEL_8707d65a71034a48a9074cd076807b7b",
        "IPY_MODEL_498d37914a0b419c9886a59f71e7c70b"
       ],
       "layout": "IPY_MODEL_0bcb43cae1ff4c2b8ccf8a6f16574b9d"
      }
     },
     "986cfa49f46d4b5486ca934c28a9ab2f": {
      "model_module": "@jupyter-widgets/base",
      "model_module_version": "1.2.0",
      "model_name": "LayoutModel",
      "state": {}
     },
     "98cc374098cc439ea485e3d0807fe59c": {
      "model_module": "@jupyter-widgets/controls",
      "model_module_version": "1.5.0",
      "model_name": "FloatProgressModel",
      "state": {
       "bar_style": "success",
       "layout": "IPY_MODEL_0a07a8af0cb54078b44e7f6611a41fdb",
       "max": 37,
       "style": "IPY_MODEL_1dbadd5a6aee4c0b9e6f632ab33e9a9e",
       "value": 37
      }
     },
     "98cfcd2e9e584a6c9eaefae499108b4d": {
      "model_module": "@jupyter-widgets/base",
      "model_module_version": "1.2.0",
      "model_name": "LayoutModel",
      "state": {}
     },
     "98e11c2581c54220b31b0a8526851080": {
      "model_module": "@jupyter-widgets/base",
      "model_module_version": "1.2.0",
      "model_name": "LayoutModel",
      "state": {
       "width": "20px"
      }
     },
     "9b4bb2e9f8bd4b27b1435d0d8cad95ca": {
      "model_module": "@jupyter-widgets/controls",
      "model_module_version": "1.5.0",
      "model_name": "DescriptionStyleModel",
      "state": {
       "description_width": ""
      }
     },
     "9e5bd083fb93484fbdc56526d1b42bf1": {
      "model_module": "@jupyter-widgets/controls",
      "model_module_version": "1.5.0",
      "model_name": "HTMLModel",
      "state": {
       "layout": "IPY_MODEL_0332119961404df7bb7addfea3f06b52",
       "style": "IPY_MODEL_2b217273b3554f2e9e95edbf4c9eb575",
       "value": " 0/400 [00:00&lt;?, ?it/s]"
      }
     },
     "a3006ec216124840a04e1e44531b341a": {
      "model_module": "@jupyter-widgets/controls",
      "model_module_version": "1.5.0",
      "model_name": "DescriptionStyleModel",
      "state": {
       "description_width": ""
      }
     },
     "a676bef8a7ba4f35bfb36d9942691298": {
      "model_module": "@jupyter-widgets/base",
      "model_module_version": "1.2.0",
      "model_name": "LayoutModel",
      "state": {}
     },
     "aca215eb69a3412ea0a7c4d93555dd0d": {
      "model_module": "@jupyter-widgets/controls",
      "model_module_version": "1.5.0",
      "model_name": "FloatProgressModel",
      "state": {
       "bar_style": "success",
       "layout": "IPY_MODEL_ae45d4be8461408cb422d30549120b81",
       "max": 400,
       "style": "IPY_MODEL_51801a323934423d8a74b97bec9d1903",
       "value": 400
      }
     },
     "ae45d4be8461408cb422d30549120b81": {
      "model_module": "@jupyter-widgets/base",
      "model_module_version": "1.2.0",
      "model_name": "LayoutModel",
      "state": {}
     },
     "ae5303c5707b4c4ba25a3e3b02eb363f": {
      "model_module": "@jupyter-widgets/controls",
      "model_module_version": "1.5.0",
      "model_name": "HBoxModel",
      "state": {
       "children": [
        "IPY_MODEL_c3fe27702e2f4e85abc165c5a07c0f95",
        "IPY_MODEL_1b292e2baaa24d868485f9708e80a0e0",
        "IPY_MODEL_118b7f6e0ab04cc9b76d196eff63af79"
       ],
       "layout": "IPY_MODEL_ff6386be8e6e49df835de74c4eebd0a3"
      }
     },
     "b4dc2efcc19141e3abfc4b5515a5bc44": {
      "model_module": "@jupyter-widgets/base",
      "model_module_version": "1.2.0",
      "model_name": "LayoutModel",
      "state": {}
     },
     "c3fe27702e2f4e85abc165c5a07c0f95": {
      "model_module": "@jupyter-widgets/controls",
      "model_module_version": "1.5.0",
      "model_name": "HTMLModel",
      "state": {
       "layout": "IPY_MODEL_7e7c6578003f4d9190439ecbbc0ecd3c",
       "style": "IPY_MODEL_9b4bb2e9f8bd4b27b1435d0d8cad95ca",
       "value": "100%"
      }
     },
     "c670ec849cf146c9b202de30a159e4f7": {
      "model_module": "@jupyter-widgets/base",
      "model_module_version": "1.2.0",
      "model_name": "LayoutModel",
      "state": {}
     },
     "c8ab210db5ac4a89a945bd7598418055": {
      "model_module": "@jupyter-widgets/base",
      "model_module_version": "1.2.0",
      "model_name": "LayoutModel",
      "state": {}
     },
     "c9b327591ff8441098ed12ada9ac1321": {
      "model_module": "@jupyter-widgets/base",
      "model_module_version": "1.2.0",
      "model_name": "LayoutModel",
      "state": {}
     },
     "d3d009292e1440b1ab9b24672abd2b82": {
      "model_module": "@jupyter-widgets/controls",
      "model_module_version": "1.5.0",
      "model_name": "HTMLModel",
      "state": {
       "layout": "IPY_MODEL_4ede8d4d0252477fb4df9ca4bbd7052b",
       "style": "IPY_MODEL_892a56a094b147b9984c8e613334d96b",
       "value": "Calculating parameter space:   0%"
      }
     },
     "d4893d7ee0e549898f377cb4cf8f270d": {
      "model_module": "@jupyter-widgets/controls",
      "model_module_version": "1.5.0",
      "model_name": "FloatProgressModel",
      "state": {
       "bar_style": "danger",
       "layout": "IPY_MODEL_d4bb19803c0342b4bbac6c341317fff0",
       "max": 400,
       "style": "IPY_MODEL_4ae4c01e61a54f4ba2577f1266932300"
      }
     },
     "d4bb19803c0342b4bbac6c341317fff0": {
      "model_module": "@jupyter-widgets/base",
      "model_module_version": "1.2.0",
      "model_name": "LayoutModel",
      "state": {}
     },
     "d9946b5118634ed2b62d41f3990097dc": {
      "model_module": "@jupyter-widgets/controls",
      "model_module_version": "1.5.0",
      "model_name": "DescriptionStyleModel",
      "state": {
       "description_width": ""
      }
     },
     "e0130b4d814447df8d6c8461e2778e1f": {
      "model_module": "@jupyter-widgets/base",
      "model_module_version": "1.2.0",
      "model_name": "LayoutModel",
      "state": {}
     },
     "e05eb309cb4e4e2cb84e3a3e1e784cc4": {
      "model_module": "@jupyter-widgets/base",
      "model_module_version": "1.2.0",
      "model_name": "LayoutModel",
      "state": {}
     },
     "e453d43a883341a7bcc864f072523028": {
      "model_module": "@jupyter-widgets/controls",
      "model_module_version": "1.5.0",
      "model_name": "HTMLModel",
      "state": {
       "layout": "IPY_MODEL_c670ec849cf146c9b202de30a159e4f7",
       "style": "IPY_MODEL_a3006ec216124840a04e1e44531b341a",
       "value": " 400/400 [02:01&lt;00:00,  3.34it/s]"
      }
     },
     "e4cb65cffda746e5a4a9d86a276b338d": {
      "model_module": "@jupyter-widgets/controls",
      "model_module_version": "1.5.0",
      "model_name": "ProgressStyleModel",
      "state": {
       "description_width": ""
      }
     },
     "e657877f274b476da0329b4ddcf546d6": {
      "model_module": "@jupyter-widgets/controls",
      "model_module_version": "1.5.0",
      "model_name": "DescriptionStyleModel",
      "state": {
       "description_width": ""
      }
     },
     "e72557272aea4cb79227379a8eb48690": {
      "model_module": "@jupyter-widgets/controls",
      "model_module_version": "1.5.0",
      "model_name": "DescriptionStyleModel",
      "state": {
       "description_width": ""
      }
     },
     "e8e5c6a59de941a085ce1252125b5693": {
      "model_module": "@jupyter-widgets/controls",
      "model_module_version": "1.5.0",
      "model_name": "HTMLModel",
      "state": {
       "layout": "IPY_MODEL_0b85859d07f14508a96bfd33d409a877",
       "style": "IPY_MODEL_794f18054e60433f9f76c8186b102904",
       "value": "Calculating real data optimization parameteres: "
      }
     },
     "e9ae3ce6945f4e23b53420ca57bd2e94": {
      "model_module": "@jupyter-widgets/controls",
      "model_module_version": "1.5.0",
      "model_name": "HTMLModel",
      "state": {
       "layout": "IPY_MODEL_2c171a16a8d9413aa1d3764aea259a2d",
       "style": "IPY_MODEL_35cbf365026a4ab895f6011f8d176df0",
       "value": " 37/37 [01:00&lt;00:00,  1.72s/it]"
      }
     },
     "eb20efb58ca64afe809e2618f4f6a698": {
      "model_module": "@jupyter-widgets/controls",
      "model_module_version": "1.5.0",
      "model_name": "HTMLModel",
      "state": {
       "layout": "IPY_MODEL_b4dc2efcc19141e3abfc4b5515a5bc44",
       "style": "IPY_MODEL_6e6c23195bac42ceb572ad094e0f68c5",
       "value": "Calculating real data optimization parameteres: 100%"
      }
     },
     "ee95400c4ce745a2af3d7aac8a39b8ee": {
      "model_module": "@jupyter-widgets/base",
      "model_module_version": "1.2.0",
      "model_name": "LayoutModel",
      "state": {}
     },
     "f0780f3237364de8bfbfdf58b0aa60e7": {
      "model_module": "@jupyter-widgets/base",
      "model_module_version": "1.2.0",
      "model_name": "LayoutModel",
      "state": {}
     },
     "f80c44f839b94afa8e1831d603e48e5b": {
      "model_module": "@jupyter-widgets/controls",
      "model_module_version": "1.5.0",
      "model_name": "FloatProgressModel",
      "state": {
       "bar_style": "success",
       "layout": "IPY_MODEL_98cfcd2e9e584a6c9eaefae499108b4d",
       "max": 400,
       "style": "IPY_MODEL_e4cb65cffda746e5a4a9d86a276b338d",
       "value": 400
      }
     },
     "fcf4554ef96d469a906b1ca337965d82": {
      "model_module": "@jupyter-widgets/controls",
      "model_module_version": "1.5.0",
      "model_name": "DescriptionStyleModel",
      "state": {
       "description_width": ""
      }
     },
     "fdb79293dc2043d88effbf38e33a506d": {
      "model_module": "@jupyter-widgets/controls",
      "model_module_version": "1.5.0",
      "model_name": "DescriptionStyleModel",
      "state": {
       "description_width": ""
      }
     },
     "ff6386be8e6e49df835de74c4eebd0a3": {
      "model_module": "@jupyter-widgets/base",
      "model_module_version": "1.2.0",
      "model_name": "LayoutModel",
      "state": {}
     }
    },
    "version_major": 2,
    "version_minor": 0
   }
  }
 },
 "nbformat": 4,
 "nbformat_minor": 4
}
