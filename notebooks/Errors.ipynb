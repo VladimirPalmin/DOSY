{
 "cells": [
  {
   "cell_type": "code",
   "execution_count": 2,
   "id": "d27a8130",
   "metadata": {},
   "outputs": [],
   "source": [
    "import pandas as pd\n",
    "import numpy as np\n",
    "import matplotlib.pyplot as plt\n",
    "import scipy.stats as stats\n",
    "import scipy.optimize as optimize\n",
    "import seaborn as sns\n",
    "from statsmodels.stats.multitest import multipletests\n",
    "from statsmodels.stats.diagnostic import lilliefors"
   ]
  },
  {
   "cell_type": "markdown",
   "id": "0db13685",
   "metadata": {},
   "source": [
    "## Оценка погрешностей эксперимента"
   ]
  },
  {
   "cell_type": "markdown",
   "id": "a3ed7735",
   "metadata": {},
   "source": [
    "### 1. Постоянный шаг"
   ]
  },
  {
   "cell_type": "code",
   "execution_count": 12,
   "id": "6376351c",
   "metadata": {},
   "outputs": [
    {
     "data": {
      "text/html": [
       "<div>\n",
       "<style scoped>\n",
       "    .dataframe tbody tr th:only-of-type {\n",
       "        vertical-align: middle;\n",
       "    }\n",
       "\n",
       "    .dataframe tbody tr th {\n",
       "        vertical-align: top;\n",
       "    }\n",
       "\n",
       "    .dataframe thead th {\n",
       "        text-align: right;\n",
       "    }\n",
       "</style>\n",
       "<table border=\"1\" class=\"dataframe\">\n",
       "  <thead>\n",
       "    <tr style=\"text-align: right;\">\n",
       "      <th></th>\n",
       "      <th>#</th>\n",
       "      <th>X(I)</th>\n",
       "      <th>Y(X)</th>\n",
       "      <th>Y'(X)</th>\n",
       "      <th>Y1(X)</th>\n",
       "      <th>Y1'(X)</th>\n",
       "      <th>Unnamed: 6</th>\n",
       "    </tr>\n",
       "  </thead>\n",
       "  <tbody>\n",
       "    <tr>\n",
       "      <th>0</th>\n",
       "      <td>Model</td>\n",
       "      <td>ARR_DATA(I)</td>\n",
       "      <td>Integral(3.574,3.429)</td>\n",
       "      <td>NaN</td>\n",
       "      <td>Integral(3.429,3.367)</td>\n",
       "      <td>NaN</td>\n",
       "      <td>NaN</td>\n",
       "    </tr>\n",
       "    <tr>\n",
       "      <th>1</th>\n",
       "      <td>1</td>\n",
       "      <td>8182.798</td>\n",
       "      <td>73401.655</td>\n",
       "      <td>0.0</td>\n",
       "      <td>3805.146</td>\n",
       "      <td>0.0</td>\n",
       "      <td>NaN</td>\n",
       "    </tr>\n",
       "    <tr>\n",
       "      <th>2</th>\n",
       "      <td>2</td>\n",
       "      <td>48349.201</td>\n",
       "      <td>70230.083</td>\n",
       "      <td>0.0</td>\n",
       "      <td>3711.062</td>\n",
       "      <td>0.0</td>\n",
       "      <td>NaN</td>\n",
       "    </tr>\n",
       "    <tr>\n",
       "      <th>3</th>\n",
       "      <td>3</td>\n",
       "      <td>88488.611</td>\n",
       "      <td>67530.980</td>\n",
       "      <td>0.0</td>\n",
       "      <td>3594.551</td>\n",
       "      <td>0.0</td>\n",
       "      <td>NaN</td>\n",
       "    </tr>\n",
       "    <tr>\n",
       "      <th>4</th>\n",
       "      <td>4</td>\n",
       "      <td>128668.571</td>\n",
       "      <td>65224.539</td>\n",
       "      <td>0.0</td>\n",
       "      <td>3495.989</td>\n",
       "      <td>0.0</td>\n",
       "      <td>NaN</td>\n",
       "    </tr>\n",
       "  </tbody>\n",
       "</table>\n",
       "</div>"
      ],
      "text/plain": [
       "       #         X(I)                   Y(X)  Y'(X)                  Y1(X)  \\\n",
       "0  Model  ARR_DATA(I)  Integral(3.574,3.429)    NaN  Integral(3.429,3.367)   \n",
       "1      1     8182.798              73401.655    0.0               3805.146   \n",
       "2      2    48349.201              70230.083    0.0               3711.062   \n",
       "3      3    88488.611              67530.980    0.0               3594.551   \n",
       "4      4   128668.571              65224.539    0.0               3495.989   \n",
       "\n",
       "   Y1'(X)  Unnamed: 6  \n",
       "0     NaN         NaN  \n",
       "1     0.0         NaN  \n",
       "2     0.0         NaN  \n",
       "3     0.0         NaN  \n",
       "4     0.0         NaN  "
      ]
     },
     "execution_count": 12,
     "metadata": {},
     "output_type": "execute_result"
    }
   ],
   "source": [
    "data = pd.read_csv(\"/Users/goloshch/PycharmProjects/DOSY/data/R2 128DOSY.txt\", sep=\"\\t\")\n",
    "data.head()"
   ]
  },
  {
   "cell_type": "code",
   "execution_count": 13,
   "id": "3ec4bebc",
   "metadata": {},
   "outputs": [],
   "source": [
    "def wexp(x : np.array, w : float, D : float) -> np.array:\n",
    "    return w * np.e ** (-D * x)"
   ]
  },
  {
   "cell_type": "code",
   "execution_count": 19,
   "id": "68413f14",
   "metadata": {},
   "outputs": [
    {
     "data": {
      "text/plain": [
       "[<matplotlib.lines.Line2D at 0x7fd413864a90>]"
      ]
     },
     "execution_count": 19,
     "metadata": {},
     "output_type": "execute_result"
    },
    {
     "data": {
      "image/png": "[encoded data removed]",
      "text/plain": [
       "<Figure size 864x432 with 2 Axes>"
      ]
     },
     "metadata": {
      "needs_background": "light"
     },
     "output_type": "display_data"
    }
   ],
   "source": [
    "x = np.array(data[\"X(I)\"][1:], dtype=np.float64)\n",
    "y = np.array(data[\"Y(X)\"][1:], dtype=np.float64)\n",
    "y = y/y[0]\n",
    "\n",
    "fig=plt.figure(figsize=(12,6))\n",
    "\n",
    "fig.add_subplot(1, 2, 1)\n",
    "plt.plot(x, y)\n",
    "\n",
    "fig.add_subplot(1, 2, 2)\n",
    "plt.plot(x, np.log(y))"
   ]
  },
  {
   "cell_type": "code",
   "execution_count": 15,
   "id": "57429333",
   "metadata": {},
   "outputs": [
    {
     "data": {
      "text/plain": [
       "<AxesSubplot:ylabel='Count'>"
      ]
     },
     "execution_count": 15,
     "metadata": {},
     "output_type": "execute_result"
    },
    {
     "data": {
      "image/png": "[encoded data removed]",
      "text/plain": [
       "<Figure size 432x288 with 1 Axes>"
      ]
     },
     "metadata": {
      "needs_background": "light"
     },
     "output_type": "display_data"
    }
   ],
   "source": [
    "cut = round(x.size/4)\n",
    "\n",
    "k, b = np.polyfit(x[-cut:], np.log(y[-cut:]), deg=1)\n",
    "err = (y - np.e**b * np.e**(k * x))[-cut:]\n",
    "# plt.plot(x[-cut:], err)\n",
    "sns.histplot(err, bins=20, kde=True)"
   ]
  },
  {
   "cell_type": "markdown",
   "id": "c3a045de",
   "metadata": {},
   "source": [
    "Проверим погрешность на нормальность с помощью критериев Шапиро-Уилка, Лиллиефорса, Жарка-Бера. Применим множественную проверку гипотез"
   ]
  },
  {
   "cell_type": "code",
   "execution_count": 17,
   "id": "e96c0157",
   "metadata": {},
   "outputs": [
    {
     "data": {
      "text/plain": [
       "(array([False, False, False]),\n",
       " array([0.73368392, 0.73368392, 0.73368392]),\n",
       " 0.016952427508441503,\n",
       " 0.016666666666666666)"
      ]
     },
     "execution_count": 17,
     "metadata": {},
     "output_type": "execute_result"
    }
   ],
   "source": [
    "p = [stats.shapiro(err)[1], stats.jarque_bera(err)[1], lilliefors(err)[1]]\n",
    "multipletests(p)"
   ]
  },
  {
   "cell_type": "markdown",
   "id": "5f5d6808",
   "metadata": {},
   "source": [
    "__Вывод:__ Гипотеза нормальности случайной ошибки не отвергается"
   ]
  },
  {
   "cell_type": "markdown",
   "id": "2f2f809a",
   "metadata": {},
   "source": [
    "Для нормалной выборки ОМП дисперсии равна выборочной дисперсии"
   ]
  },
  {
   "cell_type": "code",
   "execution_count": 63,
   "id": "51a1b60e",
   "metadata": {},
   "outputs": [
    {
     "name": "stdout",
     "output_type": "stream",
     "text": [
      "1.4218286951796062\n"
     ]
    }
   ],
   "source": [
    "print(np.std(err)*1e4)"
   ]
  },
  {
   "cell_type": "markdown",
   "id": "a0c715c2",
   "metadata": {},
   "source": [
    "Получили, что случайная погрешность $\\sim \\mathcal{N}(0, 1.4\\cdot 10^{-4})$"
   ]
  },
  {
   "cell_type": "markdown",
   "id": "b76b3f82",
   "metadata": {},
   "source": [
    "Проверим результат на данных $R1-R5$"
   ]
  },
  {
   "cell_type": "code",
   "execution_count": 34,
   "id": "b5b337bf",
   "metadata": {},
   "outputs": [
    {
     "name": "stdout",
     "output_type": "stream",
     "text": [
      "Результат МПГ:     [False False False]\n",
      "Результат МПГ:     [False False False]\n",
      "Результат МПГ:     [False False False]\n",
      "Результат МПГ:     [False False False]\n",
      "Результат МПГ:     [False False False]\n",
      "\n",
      "Среднее стандартное отклонение:   0.00036657399686038767\n"
     ]
    }
   ],
   "source": [
    "cut = round(x.size/4)\n",
    "disp = []\n",
    "\n",
    "for i in range(1, 6):\n",
    "    data = pd.read_csv(\"/Users/goloshch/PycharmProjects/DOSY/data/R{} 128DOSY.txt\".format(i), sep=\"\\t\")\n",
    "    x = np.array(data[\"X(I)\"][1:], dtype=np.float64)\n",
    "    y = np.array(data[\"Y(X)\"][1:], dtype=np.float64)\n",
    "    y = y/y[0]\n",
    "\n",
    "    \n",
    "    k, b = np.polyfit(x[-cut:], np.log(y[-cut:]), deg=1)\n",
    "    err = (y - np.e**b * np.e**(k * x))[-cut:]\n",
    "    \n",
    "    \n",
    "    p = [stats.shapiro(err)[1], stats.jarque_bera(err)[1], lilliefors(err)[1]]\n",
    "    print(\"Результат МПГ:    \", multipletests(p)[0])\n",
    "\n",
    "    disp.append(np.var(err))\n",
    "\n",
    "print()\n",
    "print(\"Среднее стандартное отклонение:  \", (np.array(disp).mean())**0.5)"
   ]
  },
  {
   "cell_type": "markdown",
   "id": "7a503545",
   "metadata": {},
   "source": [
    "__Вывод:__ Случайная погрешность $\\mathcal{N}(0, 3.3\\cdot 10^{-4})$"
   ]
  },
  {
   "cell_type": "markdown",
   "id": "79c75be9",
   "metadata": {},
   "source": [
    "### 2. Экспоненциальный шаг"
   ]
  },
  {
   "cell_type": "code",
   "execution_count": 37,
   "id": "1a4506b6",
   "metadata": {},
   "outputs": [
    {
     "data": {
      "text/html": [
       "<div>\n",
       "<style scoped>\n",
       "    .dataframe tbody tr th:only-of-type {\n",
       "        vertical-align: middle;\n",
       "    }\n",
       "\n",
       "    .dataframe tbody tr th {\n",
       "        vertical-align: top;\n",
       "    }\n",
       "\n",
       "    .dataframe thead th {\n",
       "        text-align: right;\n",
       "    }\n",
       "</style>\n",
       "<table border=\"1\" class=\"dataframe\">\n",
       "  <thead>\n",
       "    <tr style=\"text-align: right;\">\n",
       "      <th></th>\n",
       "      <th>#</th>\n",
       "      <th>X(I)</th>\n",
       "      <th>Y(X)</th>\n",
       "      <th>Y'(X)</th>\n",
       "      <th>Unnamed: 4</th>\n",
       "    </tr>\n",
       "  </thead>\n",
       "  <tbody>\n",
       "    <tr>\n",
       "      <th>0</th>\n",
       "      <td>Model</td>\n",
       "      <td>ARR_DATA(I)</td>\n",
       "      <td>Integral(3.571,3.410)</td>\n",
       "      <td>NaN</td>\n",
       "      <td>NaN</td>\n",
       "    </tr>\n",
       "    <tr>\n",
       "      <th>1</th>\n",
       "      <td>1</td>\n",
       "      <td>20510.330</td>\n",
       "      <td>12083.232</td>\n",
       "      <td>0.0</td>\n",
       "      <td>NaN</td>\n",
       "    </tr>\n",
       "    <tr>\n",
       "      <th>2</th>\n",
       "      <td>2</td>\n",
       "      <td>121188.136</td>\n",
       "      <td>11530.699</td>\n",
       "      <td>0.0</td>\n",
       "      <td>NaN</td>\n",
       "    </tr>\n",
       "    <tr>\n",
       "      <th>3</th>\n",
       "      <td>3</td>\n",
       "      <td>221798.281</td>\n",
       "      <td>10903.173</td>\n",
       "      <td>0.0</td>\n",
       "      <td>NaN</td>\n",
       "    </tr>\n",
       "    <tr>\n",
       "      <th>4</th>\n",
       "      <td>4</td>\n",
       "      <td>322510.069</td>\n",
       "      <td>10432.249</td>\n",
       "      <td>0.0</td>\n",
       "      <td>NaN</td>\n",
       "    </tr>\n",
       "    <tr>\n",
       "      <th>...</th>\n",
       "      <td>...</td>\n",
       "      <td>...</td>\n",
       "      <td>...</td>\n",
       "      <td>...</td>\n",
       "      <td>...</td>\n",
       "    </tr>\n",
       "    <tr>\n",
       "      <th>124</th>\n",
       "      <td>124</td>\n",
       "      <td>12412031.167</td>\n",
       "      <td>152.357</td>\n",
       "      <td>0.0</td>\n",
       "      <td>NaN</td>\n",
       "    </tr>\n",
       "    <tr>\n",
       "      <th>125</th>\n",
       "      <td>125</td>\n",
       "      <td>12513147.093</td>\n",
       "      <td>151.674</td>\n",
       "      <td>0.0</td>\n",
       "      <td>NaN</td>\n",
       "    </tr>\n",
       "    <tr>\n",
       "      <th>126</th>\n",
       "      <td>126</td>\n",
       "      <td>12614673.226</td>\n",
       "      <td>155.361</td>\n",
       "      <td>0.0</td>\n",
       "      <td>NaN</td>\n",
       "    </tr>\n",
       "    <tr>\n",
       "      <th>127</th>\n",
       "      <td>127</td>\n",
       "      <td>12716609.565</td>\n",
       "      <td>139.392</td>\n",
       "      <td>0.0</td>\n",
       "      <td>NaN</td>\n",
       "    </tr>\n",
       "    <tr>\n",
       "      <th>128</th>\n",
       "      <td>128</td>\n",
       "      <td>12818956.110</td>\n",
       "      <td>131.631</td>\n",
       "      <td>0.0</td>\n",
       "      <td>NaN</td>\n",
       "    </tr>\n",
       "  </tbody>\n",
       "</table>\n",
       "<p>129 rows × 5 columns</p>\n",
       "</div>"
      ],
      "text/plain": [
       "         #          X(I)                   Y(X)  Y'(X)  Unnamed: 4\n",
       "0    Model   ARR_DATA(I)  Integral(3.571,3.410)    NaN         NaN\n",
       "1        1     20510.330              12083.232    0.0         NaN\n",
       "2        2    121188.136              11530.699    0.0         NaN\n",
       "3        3    221798.281              10903.173    0.0         NaN\n",
       "4        4    322510.069              10432.249    0.0         NaN\n",
       "..     ...           ...                    ...    ...         ...\n",
       "124    124  12412031.167                152.357    0.0         NaN\n",
       "125    125  12513147.093                151.674    0.0         NaN\n",
       "126    126  12614673.226                155.361    0.0         NaN\n",
       "127    127  12716609.565                139.392    0.0         NaN\n",
       "128    128  12818956.110                131.631    0.0         NaN\n",
       "\n",
       "[129 rows x 5 columns]"
      ]
     },
     "execution_count": 37,
     "metadata": {},
     "output_type": "execute_result"
    }
   ],
   "source": [
    "data = pd.read_csv(\"/Users/goloshch/PycharmProjects/DOSY/data/R1-R2-5-3.txt\", sep=\"\\t\")\n",
    "data"
   ]
  },
  {
   "cell_type": "code",
   "execution_count": 39,
   "id": "f8bdd0f8",
   "metadata": {},
   "outputs": [
    {
     "data": {
      "text/plain": [
       "[<matplotlib.lines.Line2D at 0x7fd413ea0070>]"
      ]
     },
     "execution_count": 39,
     "metadata": {},
     "output_type": "execute_result"
    },
    {
     "data": {
      "image/png": "[encoded data removed]",
      "text/plain": [
       "<Figure size 864x432 with 2 Axes>"
      ]
     },
     "metadata": {
      "needs_background": "light"
     },
     "output_type": "display_data"
    }
   ],
   "source": [
    "x = np.array(data[\"X(I)\"][1:], dtype=np.float64)\n",
    "y = np.array(data[\"Y(X)\"][1:], dtype=np.float64)\n",
    "y = y/y[0]\n",
    "\n",
    "fig=plt.figure(figsize=(12,6))\n",
    "\n",
    "fig.add_subplot(1, 2, 1)\n",
    "plt.plot(x, y)\n",
    "\n",
    "fig.add_subplot(1, 2, 2)\n",
    "plt.plot(x, np.log(y))"
   ]
  },
  {
   "cell_type": "code",
   "execution_count": 54,
   "id": "ab031a3f",
   "metadata": {},
   "outputs": [
    {
     "data": {
      "text/plain": [
       "<AxesSubplot:ylabel='Count'>"
      ]
     },
     "execution_count": 54,
     "metadata": {},
     "output_type": "execute_result"
    },
    {
     "data": {
      "image/png": "[encoded data removed]",
      "text/plain": [
       "<Figure size 432x288 with 1 Axes>"
      ]
     },
     "metadata": {
      "needs_background": "light"
     },
     "output_type": "display_data"
    }
   ],
   "source": [
    "cut = round(x.size/4)\n",
    "\n",
    "k, b = np.polyfit(x[-cut:], np.log(y[-cut:]), deg=1)\n",
    "err = (y - np.e**b * np.e**(k * x))[-cut:]\n",
    "# plt.plot(x[-cut:], err)\n",
    "sns.histplot(err, bins=20, kde=True)"
   ]
  },
  {
   "cell_type": "code",
   "execution_count": 61,
   "id": "1e7cb36a",
   "metadata": {},
   "outputs": [
    {
     "name": "stdout",
     "output_type": "stream",
     "text": [
      "Результат МПГ:     [False False False]\n"
     ]
    }
   ],
   "source": [
    "p = [stats.shapiro(err)[1], stats.jarque_bera(err)[1], lilliefors(err)[1]]\n",
    "print(\"Результат МПГ:    \", multipletests(p)[0])"
   ]
  },
  {
   "cell_type": "code",
   "execution_count": 58,
   "id": "07551201",
   "metadata": {},
   "outputs": [
    {
     "name": "stdout",
     "output_type": "stream",
     "text": [
      "Среднее стандартное отклонение:   0.0007301674566047578\n"
     ]
    }
   ],
   "source": [
    "print(\"Среднее стандартное отклонение:  \", np.std(err))"
   ]
  },
  {
   "cell_type": "markdown",
   "id": "43af2795",
   "metadata": {},
   "source": [
    "__Выводы:__ \n",
    "\n",
    "- Ошибка с экспоненциальным шагом распределена как $\\mathcal{N}(0, 7.3\\cdot 10^{-4})$. \n",
    "\n",
    "\n",
    "- Для постоянного шага после усреднения получилось $\\mathcal{N}(0, 3.3\\cdot 10^{-4})$\n",
    "\n",
    "\n",
    "\n",
    "- Данные можно моделировать как $y = y_{model} + \\mathcal{N}(0, 5\\cdot 10^{-4})$"
   ]
  }
 ],
 "metadata": {
  "kernelspec": {
   "display_name": "Python 3 (ipykernel)",
   "language": "python",
   "name": "python3"
  },
  "language_info": {
   "codemirror_mode": {
    "name": "ipython",
    "version": 3
   },
   "file_extension": ".py",
   "mimetype": "text/x-python",
   "name": "python",
   "nbconvert_exporter": "python",
   "pygments_lexer": "ipython3",
   "version": "3.10.0"
  }
 },
 "nbformat": 4,
 "nbformat_minor": 5
}
